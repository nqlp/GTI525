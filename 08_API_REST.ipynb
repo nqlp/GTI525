{
  "nbformat": 4,
  "nbformat_minor": 0,
  "metadata": {
    "colab": {
      "provenance": [],
      "collapsed_sections": [
        "O9w09Ji7QeYX"
      ],
      "include_colab_link": true
    },
    "kernelspec": {
      "name": "python3",
      "display_name": "Python 3"
    },
    "language_info": {
      "name": "python"
    }
  },
  "cells": [
    {
      "cell_type": "markdown",
      "metadata": {
        "id": "view-in-github",
        "colab_type": "text"
      },
      "source": [
        "<a href=\"https://colab.research.google.com/github/nqlp/GTI525/blob/main/08_API_REST.ipynb\" target=\"_parent\"><img src=\"https://colab.research.google.com/assets/colab-badge.svg\" alt=\"Open In Colab\"/></a>"
      ]
    },
    {
      "cell_type": "markdown",
      "source": [
        "# Configuration\n",
        "-------------------\n",
        "\n",
        "\n",
        "Les cellules de cette section doivent être exécutées avant le reste du document. Si vous êtes déconnecté de l'engin d'exécution par Google Colab, il vous faudra exécuter cette section de nouveau.\n",
        "\n",
        "Le code de cette section a pour fin customiser la commande magique `%%javascript` et ajouter quelques paramètres qui permettent que le code fourni soit exécuté côté conteneur Colab:\n",
        "\n",
        "\n",
        "* `--target=[ node | browser | disk ]` :\n",
        "  - `node`: indique que le code JavaScript fourni dans la cellule sera sauvegardé dans un fichier `.js` et exécuté par Node.js.\n",
        "  - `browser`: la valeur browser correspond au comportement défaut de la commande `%%javascript`\n",
        "  - `disk`: le contenu de la cellule sera seulement stocké dans le fichier `.js`.\n",
        "\n",
        "* `--filename=FILENAME` : le nome du fichier qui sera créé sur le disque de la machine virtuelle\n",
        "\n",
        "* `--port=PORT` : (optionnel) Node.js sera exécuté en *background* pour éviter que l'exécution de la cellule bloque le reste du cahier. Le numéro de port fourni sera exporté dans la variable d'environnement `NODE_PORT`."
      ],
      "metadata": {
        "id": "O9w09Ji7QeYX"
      }
    },
    {
      "cell_type": "code",
      "source": [
        "\"\"\"\n",
        "Le code de cette cellule ira créer quelques dossiers\n",
        "pour mieux organiser les fichiers JavaScript du cours, installer\n",
        "les extensions et mettre à jour la version de Node.js\n",
        "utilisée par Colab.\n",
        "\"\"\"\n",
        "directories = (\n",
        "    'json-mock-api', 'express-mock-api', 'chinook'\n",
        "    )\n",
        "for dir in directories:\n",
        "  !mkdir -p /content/$dir\n",
        "\n",
        "!pip3 install classroom-extensions\n",
        "%load_ext classroom_extensions.node_install\n",
        "%install_nodejs\n",
        "%load_ext classroom_extensions.web"
      ],
      "metadata": {
        "id": "QHo35vfiyhyp"
      },
      "execution_count": null,
      "outputs": []
    },
    {
      "cell_type": "markdown",
      "source": [
        "# API REST (Representational State Transfer)\n",
        "---------\n",
        "\n",
        "* Une [API REST](https://www.redhat.com/fr/topics/api/what-is-a-rest-api) (également appelée API RESTful) est une interface de programmation d'application qui respecte les contraintes du style d'architecture REST et permet d'interagir avec les services web RESTful.\n",
        "\n",
        "* L'architecture REST a été proposée par Roy Fielding à l'Université UC Irvine en tant que partie intégrante de [sa dissertation](https://www.ics.uci.edu/~fielding/pubs/dissertation/rest_arch_style.htm)."
      ],
      "metadata": {
        "id": "jkm9hcQgceka"
      }
    },
    {
      "cell_type": "markdown",
      "source": [
        "## REST\n",
        "\n",
        "* REST n'est pas une norme ni un protocole, mais plutôt un ensemble d'architectures pour les API.\n",
        "\n",
        "* Lorsqu'un client envoie une requête à une API RESTful, l'API crée une représentation de la ressource demandée et la rend accessible via un point d'accès (endpoint).\n",
        "\n",
        "* La représentation, transmise via HTTP, est généralement au format JSON, bien que d'autres formats soient possibles.\n",
        "\n",
        "* Les en-têtes HTTP et les paramètres d'URL sont essentiels pour les API REST, car ils contiennent des informations pour identifier les ressources et autoriser les utilisateurs, entre autres."
      ],
      "metadata": {
        "id": "RSTWebwmmOLG"
      }
    },
    {
      "cell_type": "markdown",
      "source": [
        "## Les principes de REST\n",
        "\n",
        "Pour être considerée une API REST, une API doit respecter [les critères suivants](https://restfulapi.net/rest-architectural-constraints/):\n",
        "\n",
        "1. **Architecture client-serveur** : Des ressources, des clients et des serveurs communiquent via HTTP, avec une séparation nette entre ces rôles. Les clients et les serveurs sont interchangeables et évoluent indépendamment tant que l'interface reste constante.\n",
        "\n",
        "2. **Communication client-serveur sans état (*stateless*) :** Les données du client ne sont jamais stockées par le serveur, chaque requête `GET` est traitée indépendamment. Le serveur ne conserve aucun état de l'application client, et les informations d'état sont transmises par le client via les requêtes REST. Bien qu'un concept de *session* puisse exister, le client doit fournir les informations nécessaires pour identifier cette session au serveur. Le serveur est interchangeable et peut transférer l'état de la session vers d'autres serveurs ou systèmes, comme une base de données.\n",
        "\n",
        "3. **Mise en cache des données :** La mise en cache, bien qu'utile pour améliorer les performances de la communication client-serveur, peut compromettre la cohérence des données. Afin d'éviter la mise en cache lorsque nécessaire, les réponses peuvent spécifier cette exigence, par exemple en utilisant des [en-têtes HTTP appropriés](https://developer.mozilla.org/fr/docs/Web/HTTP/Headers/Cache-Control).\n",
        "\n",
        "4. **Système à couches :** La hiérarchisation des serveurs dans le service API est cruciale pour garantir que le client ne distingue pas une connexion directe d'une connexion via un nœud intermédiaire, tel qu'un *proxy* ou un pare-feu. Ce modèle à couches offre la possibilité de mettre en place une scalabilité, notamment par le biais d'un équilibreur de charge.\n",
        "\n",
        "5. **Interface uniforme :** Une interface standardisée est essentielle pour faciliter la communication entre clients et serveurs. Les développeurs familiers avec votre API devraient pouvoir appliquer des approches similaires à d'autres APIs. Cela suppose de respecter notamment l'identification des ressources via l'URL, la manipulation des ressources via leurs représentations, l'utilisation de messages auto-descriptifs, l'adoption de formats standards tels que JSON ou XML, et la mise en œuvre des concepts HATEOAS (*Hypermedia As The Engine Of the Application State*).\n",
        "\n",
        "6. **Code à la demande (facultatif) :** Il offre la flexibilité d'envoyer du code exécutable du serveur vers le client, permettant ainsi d'étendre les fonctionnalités du client en déplaçant la logique depuis le serveur.\n"
      ],
      "metadata": {
        "id": "cRJK6xNhuKpm"
      }
    },
    {
      "cell_type": "markdown",
      "source": [
        "### HATEOAS (*Hypermedia As The Engine Of the Application State*)\n",
        "\n",
        "HATEOAS est une contrainte et un style architecturaux qui préconisent l'inclusion de liens hypermédias dans les réponses d'une API pour faciliter la navigation vers des ressources connexes en suivant les liens fournis.\n",
        "\n",
        "Ce principe est similaire à la navigation web elle-même : une page contenant divers liens vers d'autres pages. Les liens hypermédias sont utilisés pour piloter l'état de l'application, plutôt que l'inverse.\n",
        "\n",
        "\n",
        "**Exemple:**\n",
        "\n",
        "Un appel au point de terminaison `https://api.example.com/users/123`, pour obtenir les details sur l'utilisateur dont l'identifiant est `123`, pourrait retourner:\n",
        "\n",
        "```javascript\n",
        "{\n",
        "  \"user\": {\n",
        "    \"id\": 123,\n",
        "    \"name\": \"Jean Dupont\",\n",
        "    \"links\": [\n",
        "      {\n",
        "        \"rel\": \"self\",\n",
        "        \"href\": \"https://api.example.com/users/123\",\n",
        "        \"method\": \"GET\"\n",
        "      },\n",
        "      {\n",
        "        \"rel\": \"posts\",\n",
        "        \"href\": \"https://api.example.com/users/123/posts\",\n",
        "        \"method\": \"GET\"\n",
        "      },\n",
        "      {\n",
        "        \"rel\": \"friends\",\n",
        "        \"href\": \"https://api.example.com/users/123/friends\",\n",
        "        \"method\": \"GET\"\n",
        "      },\n",
        "      {\n",
        "        \"rel\": \"new-post\",\n",
        "        \"href\": \"https://api.example.com/users/123/posts\",\n",
        "        \"method\": \"POST\"\n",
        "      }\n",
        "    ]\n",
        "  }\n",
        "}\n",
        "\n",
        "```"
      ],
      "metadata": {
        "id": "Ef2Tq0rVDlCM"
      }
    },
    {
      "cell_type": "markdown",
      "source": [
        "## Anatomie d'une API REST\n",
        "\n",
        "**En pratique, qu'est-ce qu'une API REST ?** Nous avons déjà utilisé plusieurs APIs dans les cahiers précédents pour obtenir des informations sur des images, des lauréats du Prix Nobel, des planètes de la série *Star Wars*, et plus encore.\n",
        "* Du point de vue de l'utilisation, une API REST se compose essentiellement de quatre éléments :\n",
        "  - **Le point de terminaison** (également appelé *endpoint* en anglais).\n",
        "  - **La méthode HTTP** utilisée pour effectuer une requête.\n",
        "  - **Les en-têtes** des requêtes et des réponses HTTP.\n",
        "  - **Les données** envoyées dans le corps des requêtes/réponses HTTP.\n",
        "\n",
        "* Le point de terminaison correspond à l'URL par laquelle l'API est accessible. Par exemple, le point de terminaison racine de l'API [Star Wars](https://swapi.tech/api/) est: `https://swapi.tech/api`.\n",
        "\n",
        "* Le chemin indiqué après le point de terminaison racine d'une API REST correspond à la ressource demandée. Par exemple, dans l'appel:\n",
        "  ```\n",
        "  GET https://swapi.tech/api/planets/1\n",
        "  ```\n",
        "  le chemin `planets/1` représente la ressource associée à la première planète de la liste de planètes de *Star Wars*.\n",
        "\n",
        "* Pour déterminer le chemin à utiliser, il est nécessaire de consulter la documentation de l'API. Par exemple, [la documentation](https://swapi.tech/documentation#base) de l'API *Star Wars* explique que pour obtenir des informations sur un personnage spécifique, il faut utiliser la ressource `people` suivie de l'identifiant du personnage :\n",
        "```\n",
        "people/:id/ -- get a specific people resource\n",
        "```\n",
        "L'utilisation de `:` dans un chemin, comme illustré dans le routage d'Express, indique que `id` est une variable dont la valeur sera fournie lors de l'envoi de la requête.\n",
        "\n",
        "* Une API REST peut également permettre aux utilisateurs de spécifier des paramètres de recherche. Bien que les paramètres ne fassent pas nécessairement partie intégrante de toutes les APIs REST, ils sont fréquemment présents dans de nombreuses APIs. Dans l'[API Prix Nobel](https://www.nobelprize.org/about/developer-zone-2) que nous avons utilisé pour obtenir des informations sur les lauréats du Prix Nobel, nous avons utilisé des paramètres pour affiner nos recherches. Par exemple, nous avons utilisé :\n",
        "```\n",
        "http://api.nobelprize.org/2.1/laureates?name=Alice&birthCountry=Canada\n",
        "```\n",
        "pour obtenir la liste des lauréats nés au Canada et dont le nom contient `Alice`.\n",
        "\n",
        "* Les paramètres de recherche suivent la ressource demandée et sont introduits par `?`, séparés par `&`."
      ],
      "metadata": {
        "id": "rdsw-EjzS-b_"
      }
    },
    {
      "cell_type": "markdown",
      "source": [
        "## Tester les API REST avec `curl`\n",
        "\n",
        "On peut utiliser des API disponibles dans divers langages pour créer un client HTTP qui envoie des requêtes à une API REST, comme nous l'avons vu avec l'API `fetch` dans les cahiers précédents.\n",
        "\n",
        "\n",
        "Une option plus simple consiste à utiliser l'outil [curl](https://curl.se/), compatible avec Linux, MacOS et Windows, ou des outils tels que [Postman](https://www.postman.com/).\n",
        "\n",
        "\n",
        "De nombreuses documentations d'API REST utilisent `curl` pour illustrer les appels aux ressources. Si vous maîtrisez `curl` pour tester une API, vous saurez l'utiliser pour tester d'autres API.\n",
        "\n",
        "\n",
        "**Exemples :**\n",
        "\n",
        "Les exemples ci-dessous vous montrent comment utiliser `curl` pour envoyer des requêtes et obtenir des informations de l'API *Star Wars*. Pour lancer une requête et récupérer des informations sur les vaisseaux spatiaux :\n"
      ],
      "metadata": {
        "id": "3_5ZoVH_6N7g"
      }
    },
    {
      "cell_type": "code",
      "source": [
        "!curl https://swapi.tech/api/starships/"
      ],
      "metadata": {
        "id": "MbEwPJh-6Zh3",
        "colab": {
          "base_uri": "https://localhost:8080/"
        },
        "outputId": "d383033a-977e-4001-aad5-0cc95d894972"
      },
      "execution_count": null,
      "outputs": [
        {
          "output_type": "stream",
          "name": "stdout",
          "text": [
            "{\"message\":\"ok\",\"total_records\":36,\"total_pages\":4,\"previous\":null,\"next\":\"https://swapi.tech/api/starships?page=2&limit=10\",\"results\":[{\"uid\":\"2\",\"name\":\"CR90 corvette\",\"url\":\"https://www.swapi.tech/api/starships/2\"},{\"uid\":\"3\",\"name\":\"Star Destroyer\",\"url\":\"https://www.swapi.tech/api/starships/3\"},{\"uid\":\"5\",\"name\":\"Sentinel-class landing craft\",\"url\":\"https://www.swapi.tech/api/starships/5\"},{\"uid\":\"9\",\"name\":\"Death Star\",\"url\":\"https://www.swapi.tech/api/starships/9\"},{\"uid\":\"11\",\"name\":\"Y-wing\",\"url\":\"https://www.swapi.tech/api/starships/11\"},{\"uid\":\"10\",\"name\":\"Millennium Falcon\",\"url\":\"https://www.swapi.tech/api/starships/10\"},{\"uid\":\"13\",\"name\":\"TIE Advanced x1\",\"url\":\"https://www.swapi.tech/api/starships/13\"},{\"uid\":\"15\",\"name\":\"Executor\",\"url\":\"https://www.swapi.tech/api/starships/15\"},{\"uid\":\"12\",\"name\":\"X-wing\",\"url\":\"https://www.swapi.tech/api/starships/12\"},{\"uid\":\"17\",\"name\":\"Rebel transport\",\"url\":\"https://www.swapi.tech/api/starships/17\"}],\"apiVersion\":\"1.0\",\"timestamp\":\"2025-07-07T18:15:46.576Z\",\"support\":{\"contact\":\"admin@swapi.tech\",\"donate\":\"https://www.paypal.com/donate/?business=2HGAUVTWGR5T2&no_recurring=0&item_name=Support+Swapi+and+keep+the+galaxy%27s+data+free%21+Your+donation+fuels+open-source+innovation+and+helps+us+grow.+Thank+you%21+%F0%9F%9A%80&currency_code=USD\",\"partnerDiscounts\":{\"saberMasters\":{\"link\":\"https://www.swapi.tech/partner-discount/sabermasters-swapi\",\"details\":\"Use this link to automatically get $10 off your purchase!\"},\"heartMath\":{\"link\":\"https://www.heartmath.com/ryanc\",\"details\":\"Looking for some Jedi-like inner peace? Take 10% off your heart-brain coherence tools from the HeartMath Institute!\"}}},\"social\":{\"discord\":\"https://discord.gg/zWvA6GPeNG\",\"reddit\":\"https://www.reddit.com/r/SwapiOfficial/\",\"github\":\"https://github.com/semperry/swapi/blob/main/CONTRIBUTORS.md\"}}"
          ]
        }
      ]
    },
    {
      "cell_type": "markdown",
      "source": [
        "Le JSON retourné par l'API n'est pas formaté. Sur Linux, pour le formater on va utiliser `json_pp`. On ajoute aussi l'argument `-s` pour la commande `curl`  pour ignorer les informations de téléchargement du JSON:  "
      ],
      "metadata": {
        "id": "3bLLvv6O6YWC"
      }
    },
    {
      "cell_type": "code",
      "source": [
        "!curl -s https://swapi.tech/api/starships/10/ | json_pp"
      ],
      "metadata": {
        "id": "wyfhAQuR620x",
        "colab": {
          "base_uri": "https://localhost:8080/"
        },
        "outputId": "a2380ecd-4f81-4d7c-9cff-53a85d3e33ed"
      },
      "execution_count": null,
      "outputs": [
        {
          "output_type": "stream",
          "name": "stdout",
          "text": [
            "{\n",
            "   \"apiVersion\" : \"1.0\",\n",
            "   \"message\" : \"ok\",\n",
            "   \"result\" : {\n",
            "      \"__v\" : 2,\n",
            "      \"_id\" : \"5f63a34fee9fd7000499be23\",\n",
            "      \"description\" : \"A Starship\",\n",
            "      \"properties\" : {\n",
            "         \"MGLT\" : \"75\",\n",
            "         \"cargo_capacity\" : \"100000\",\n",
            "         \"consumables\" : \"2 months\",\n",
            "         \"cost_in_credits\" : \"100000\",\n",
            "         \"created\" : \"2025-07-06T23:28:13.129Z\",\n",
            "         \"crew\" : \"4\",\n",
            "         \"edited\" : \"2025-07-06T23:28:13.129Z\",\n",
            "         \"films\" : [\n",
            "            \"https://www.swapi.tech/api/films/1\",\n",
            "            \"https://www.swapi.tech/api/films/2\",\n",
            "            \"https://www.swapi.tech/api/films/3\"\n",
            "         ],\n",
            "         \"hyperdrive_rating\" : \"0.5\",\n",
            "         \"length\" : \"34.37\",\n",
            "         \"manufacturer\" : \"Corellian Engineering Corporation\",\n",
            "         \"max_atmosphering_speed\" : \"1050\",\n",
            "         \"model\" : \"YT-1300 light freighter\",\n",
            "         \"name\" : \"Millennium Falcon\",\n",
            "         \"passengers\" : \"6\",\n",
            "         \"pilots\" : [\n",
            "            \"https://www.swapi.tech/api/people/13\",\n",
            "            \"https://www.swapi.tech/api/people/14\",\n",
            "            \"https://www.swapi.tech/api/people/25\",\n",
            "            \"https://www.swapi.tech/api/people/31\"\n",
            "         ],\n",
            "         \"starship_class\" : \"Light freighter\",\n",
            "         \"url\" : \"https://www.swapi.tech/api/starships/10\"\n",
            "      },\n",
            "      \"uid\" : \"10\"\n",
            "   },\n",
            "   \"social\" : {\n",
            "      \"discord\" : \"https://discord.gg/zWvA6GPeNG\",\n",
            "      \"github\" : \"https://github.com/semperry/swapi/blob/main/CONTRIBUTORS.md\",\n",
            "      \"reddit\" : \"https://www.reddit.com/r/SwapiOfficial/\"\n",
            "   },\n",
            "   \"support\" : {\n",
            "      \"contact\" : \"admin@swapi.tech\",\n",
            "      \"donate\" : \"https://www.paypal.com/donate/?business=2HGAUVTWGR5T2&no_recurring=0&item_name=Support+Swapi+and+keep+the+galaxy%27s+data+free%21+Your+donation+fuels+open-source+innovation+and+helps+us+grow.+Thank+you%21+%F0%9F%9A%80&currency_code=USD\",\n",
            "      \"partnerDiscounts\" : {\n",
            "         \"heartMath\" : {\n",
            "            \"details\" : \"Looking for some Jedi-like inner peace? Take 10% off your heart-brain coherence tools from the HeartMath Institute!\",\n",
            "            \"link\" : \"https://www.heartmath.com/ryanc\"\n",
            "         },\n",
            "         \"saberMasters\" : {\n",
            "            \"details\" : \"Use this link to automatically get $10 off your purchase!\",\n",
            "            \"link\" : \"https://www.swapi.tech/partner-discount/sabermasters-swapi\"\n",
            "         }\n",
            "      }\n",
            "   },\n",
            "   \"timestamp\" : \"2025-07-07T18:15:53.121Z\"\n",
            "}\n"
          ]
        }
      ]
    },
    {
      "cell_type": "markdown",
      "source": [
        "Pour afficher les en-têtes de requête et de réponse HTTP, on ajoute l'argument `-v` (*verbose*):"
      ],
      "metadata": {
        "id": "DJzqnHDQ61r-"
      }
    },
    {
      "cell_type": "code",
      "source": [
        "!curl -s -v https://swapi.tech/api/starships/10/"
      ],
      "metadata": {
        "id": "cRwX5bE47K2p",
        "colab": {
          "base_uri": "https://localhost:8080/"
        },
        "outputId": "d002af56-d4e6-4241-8a29-27acdcaad491"
      },
      "execution_count": null,
      "outputs": [
        {
          "output_type": "stream",
          "name": "stdout",
          "text": [
            "*   Trying 172.67.218.88:443...\n",
            "* Connected to swapi.tech (172.67.218.88) port 443 (#0)\n",
            "* ALPN, offering h2\n",
            "* ALPN, offering http/1.1\n",
            "*  CAfile: /etc/ssl/certs/ca-certificates.crt\n",
            "*  CApath: /etc/ssl/certs\n",
            "* TLSv1.0 (OUT), TLS header, Certificate Status (22):\n",
            "* TLSv1.3 (OUT), TLS handshake, Client hello (1):\n",
            "* TLSv1.2 (IN), TLS header, Certificate Status (22):\n",
            "* TLSv1.3 (IN), TLS handshake, Server hello (2):\n",
            "* TLSv1.2 (IN), TLS header, Finished (20):\n",
            "* TLSv1.2 (IN), TLS header, Supplemental data (23):\n",
            "* TLSv1.3 (IN), TLS handshake, Encrypted Extensions (8):\n",
            "* TLSv1.3 (IN), TLS handshake, Certificate (11):\n",
            "* TLSv1.3 (IN), TLS handshake, CERT verify (15):\n",
            "* TLSv1.3 (IN), TLS handshake, Finished (20):\n",
            "* TLSv1.2 (OUT), TLS header, Finished (20):\n",
            "* TLSv1.3 (OUT), TLS change cipher, Change cipher spec (1):\n",
            "* TLSv1.2 (OUT), TLS header, Supplemental data (23):\n",
            "* TLSv1.3 (OUT), TLS handshake, Finished (20):\n",
            "* SSL connection using TLSv1.3 / TLS_AES_256_GCM_SHA384\n",
            "* ALPN, server accepted to use h2\n",
            "* Server certificate:\n",
            "*  subject: CN=swapi.tech\n",
            "*  start date: Jul  2 23:17:06 2025 GMT\n",
            "*  expire date: Oct  1 00:17:01 2025 GMT\n",
            "*  subjectAltName: host \"swapi.tech\" matched cert's \"swapi.tech\"\n",
            "*  issuer: C=US; O=Google Trust Services; CN=WE1\n",
            "*  SSL certificate verify ok.\n",
            "* Using HTTP2, server supports multiplexing\n",
            "* Connection state changed (HTTP/2 confirmed)\n",
            "* Copying HTTP/2 data in stream buffer to connection buffer after upgrade: len=0\n",
            "* TLSv1.2 (OUT), TLS header, Supplemental data (23):\n",
            "* TLSv1.2 (OUT), TLS header, Supplemental data (23):\n",
            "* TLSv1.2 (OUT), TLS header, Supplemental data (23):\n",
            "* Using Stream ID: 1 (easy handle 0x5b5efdac1eb0)\n",
            "* TLSv1.2 (OUT), TLS header, Supplemental data (23):\n",
            "> GET /api/starships/10/ HTTP/2\r\n",
            "> Host: swapi.tech\r\n",
            "> user-agent: curl/7.81.0\r\n",
            "> accept: */*\r\n",
            "> \r\n",
            "* TLSv1.2 (IN), TLS header, Supplemental data (23):\n",
            "* TLSv1.3 (IN), TLS handshake, Newsession Ticket (4):\n",
            "* TLSv1.3 (IN), TLS handshake, Newsession Ticket (4):\n",
            "* old SSL session ID is stale, removing\n",
            "* TLSv1.2 (IN), TLS header, Supplemental data (23):\n",
            "* TLSv1.2 (OUT), TLS header, Supplemental data (23):\n",
            "* TLSv1.2 (IN), TLS header, Supplemental data (23):\n",
            "* TLSv1.2 (IN), TLS header, Supplemental data (23):\n",
            "< HTTP/2 200 \n",
            "< date: Mon, 07 Jul 2025 18:17:23 GMT\n",
            "< content-type: application/json; charset=utf-8\n",
            "< content-length: 1750\n",
            "< access-control-allow-origin: *\n",
            "< etag: W/\"6d6-/Q+rOiXJ/cSMi2qH7xSpVnuvJtE\"\n",
            "< nel: {\"report_to\":\"heroku-nel\",\"response_headers\":[\"Via\"],\"max_age\":3600,\"success_fraction\":0.01,\"failure_fraction\":0.1}\n",
            "< report-to: {\"group\":\"heroku-nel\",\"endpoints\":[{\"url\":\"https://nel.heroku.com/reports?s=9JC7UpvWnFAnwhwkppCKKDNoRztlP64AFrpSnZMw3tE%3D\\u0026sid=e11707d5-02a7-43ef-b45e-2cf4d2036f7d\\u0026ts=1751912243\"}],\"max_age\":3600}\n",
            "< reporting-endpoints: heroku-nel=\"https://nel.heroku.com/reports?s=9JC7UpvWnFAnwhwkppCKKDNoRztlP64AFrpSnZMw3tE%3D&sid=e11707d5-02a7-43ef-b45e-2cf4d2036f7d&ts=1751912243\"\n",
            "< server: cloudflare\n",
            "< via: 2.0 heroku-router\n",
            "< x-powered-by: Express\n",
            "< x-ratelimit-limit: 100\n",
            "< x-ratelimit-remaining: 99\n",
            "< x-ratelimit-reset: 1751913144\n",
            "< cf-cache-status: DYNAMIC\n",
            "< cf-ray: 95b956a04c6865f3-AMS\n",
            "< alt-svc: h3=\":443\"; ma=86400\n",
            "< \n",
            "* TLSv1.2 (IN), TLS header, Supplemental data (23):\n",
            "{\"message\":\"ok\",\"result\":{\"properties\":{\"created\":\"2025-07-06T23:28:13.129Z\",\"edited\":\"2025-07-06T23:28:13.129Z\",\"consumables\":\"2 months\",\"name\":\"Millennium Falcon\",\"cargo_capacity\":\"100000\",\"passengers\":\"6\",\"max_atmosphering_speed\":\"1050\",\"crew\":\"4\",\"length\":\"34.37\",\"model\":\"YT-1300 light freighter\",\"cost_in_credits\":\"100000\",\"manufacturer\":\"Corellian Engineering Corporation\",\"pilots\":[\"https://www.swapi.tech/api/people/13\",\"https://www.swapi.tech/api/people/14\",\"https://www.swapi.tech/api/people/25\",\"https://www.swapi.tech/api/people/31\"],\"MGLT\":\"75\",\"starship_class\":\"Light freighter\",\"hyperdrive_rating\":\"0.5\",\"films\":[\"https://www.swapi.tech/api/films/1\",\"https://www.swapi.tech/api/films/2\",\"https://www.swapi.tech/api/films/3\"],\"url\":\"https://www.swapi.tech/api/starships/10\"},\"_id\":\"5f63a34fee9fd7000499be23\",\"description\":\"A Starship\",\"uid\":\"10\",\"__v\":2},\"apiVersion\":\"1.0\",\"timestamp\":\"2025-07-07T18:17:23.548Z\",\"support\":{\"contact\":\"admin@swapi.tech\",\"donate\":\"https://www.paypal.com/donate/?business=2HGAUV* TLSv1.2 (IN), TLS header, Supplemental data (23):\n",
            "* TLSv1.2 (IN), TLS header, Supplemental data (23):\n",
            "* Connection #0 to host swapi.tech left intact\n",
            "TWGR5T2&no_recurring=0&item_name=Support+Swapi+and+keep+the+galaxy%27s+data+free%21+Your+donation+fuels+open-source+innovation+and+helps+us+grow.+Thank+you%21+%F0%9F%9A%80&currency_code=USD\",\"partnerDiscounts\":{\"saberMasters\":{\"link\":\"https://www.swapi.tech/partner-discount/sabermasters-swapi\",\"details\":\"Use this link to automatically get $10 off your purchase!\"},\"heartMath\":{\"link\":\"https://www.heartmath.com/ryanc\",\"details\":\"Looking for some Jedi-like inner peace? Take 10% off your heart-brain coherence tools from the HeartMath Institute!\"}}},\"social\":{\"discord\":\"https://discord.gg/zWvA6GPeNG\",\"reddit\":\"https://www.reddit.com/r/SwapiOfficial/\",\"github\":\"https://github.com/semperry/swapi/blob/main/CONTRIBUTORS.md\"}}"
          ]
        }
      ]
    },
    {
      "cell_type": "markdown",
      "source": [
        "Si on s'intéresse qu'aux en-têtes de la réponse:"
      ],
      "metadata": {
        "id": "O12_WTEf7ikQ"
      }
    },
    {
      "cell_type": "code",
      "source": [
        "!curl -s --head https://swapi.tech/api/starships/10/"
      ],
      "metadata": {
        "id": "Ol1GjHh67jaN",
        "colab": {
          "base_uri": "https://localhost:8080/"
        },
        "outputId": "7d2ffcd6-06ff-4d5b-f331-89d117778794"
      },
      "execution_count": null,
      "outputs": [
        {
          "output_type": "stream",
          "name": "stdout",
          "text": [
            "HTTP/2 503 \r\n",
            "\u001b[1mdate\u001b[0m: Mon, 07 Jul 2025 18:17:36 GMT\r\n",
            "\u001b[1mcontent-type\u001b[0m: text/html; charset=utf-8\r\n",
            "\u001b[1mcache-control\u001b[0m: no-cache, no-store\r\n",
            "\u001b[1mnel\u001b[0m: {\"report_to\":\"heroku-nel\",\"response_headers\":[\"Via\"],\"max_age\":3600,\"success_fraction\":0.01,\"failure_fraction\":0.1}\r\n",
            "\u001b[1mreport-to\u001b[0m: {\"group\":\"heroku-nel\",\"endpoints\":[{\"url\":\"https://nel.heroku.com/reports?s=LmaX8tLJTM0HqDYEX8%2B8j9s5tkvajkqM6%2FBy9rjG7hQ%3D\\u0026sid=e11707d5-02a7-43ef-b45e-2cf4d2036f7d\\u0026ts=1751912256\"}],\"max_age\":3600}\r\n",
            "\u001b[1mreporting-endpoints\u001b[0m: heroku-nel=\"https://nel.heroku.com/reports?s=LmaX8tLJTM0HqDYEX8%2B8j9s5tkvajkqM6%2FBy9rjG7hQ%3D&sid=e11707d5-02a7-43ef-b45e-2cf4d2036f7d&ts=1751912256\"\r\n",
            "\u001b[1mserver\u001b[0m: cloudflare\r\n",
            "\u001b[1mvia\u001b[0m: 2.0 heroku-router\r\n",
            "\u001b[1mcf-cache-status\u001b[0m: DYNAMIC\r\n",
            "\u001b[1mcf-ray\u001b[0m: 95b956f38a055925-AMS\r\n",
            "\u001b[1malt-svc\u001b[0m: h3=\":443\"; ma=86400\r\n",
            "\r\n"
          ]
        }
      ]
    },
    {
      "cell_type": "markdown",
      "source": [
        "Nous verrons d'autres réglages possibles lorsque nous approfondirons notre étude des API REST."
      ],
      "metadata": {
        "id": "iysU-oLi7HeH"
      }
    },
    {
      "cell_type": "markdown",
      "source": [
        "## Les méthodes HTTP\n",
        "\n",
        "La méthode HTTP, également désignée comme un **verbe**, correspond au type de requête HTTP envoyée au serveur, offrant un choix parmi les types suivants :\n",
        "\n",
        "  - `GET`\n",
        "  - `POST`\n",
        "  - `PUT`\n",
        "  - `PATCH`\n",
        "  - `DELETE`\n",
        "\n",
        "**Note:** Les méthodes `OPTIONS` et `HEAD` possèdent des fonctionnalités particulières que nous aborderons ultérieurement.\n",
        "\n",
        "Les méthodes HTTP confèrent une signification aux requêtes transmises au serveur et servent de fondement pour mettre en œuvre des opérations couramment désignées sous l'acronyme CRUD (*Create, Read, Update, Delete*) :\n",
        "\n",
        "  - *Create* (créer).\n",
        "  - *Read* (lire).\n",
        "  - *Update* (mettre à jour)\n",
        "  - *Delete* (supprimer).\n",
        "\n",
        "Voici un résumé de la manière dont les méthodes HTTP sont couramment employées pour mettre en œuvre des opérations CRUD :\n",
        "\n",
        "- **`GET`** : Cette méthode est employée pour récupérer une ressource depuis un serveur. Lorsqu'une requête `GET` est adressée pour obtenir une ressource, le serveur génère une représentation de la ressource demandée, souvent au format JSON. En d'autres termes, `GET` est utilisée pour effectuer des opérations de lecture.\n",
        "\n",
        "- **`POST`** : La requête `POST` sert à créer une nouvelle ressource sur un serveur. Les données nécessaires à la création de la nouvelle ressource dans la base de données sont transmises dans le corps de la requête HTTP. Le serveur répond à la requête `POST` en indiquant le succès ou l'échec de l'opération. En somme, `POST` est utilisée pour effectuer des opérations de création.\n",
        "\n",
        "- **`PUT`/`PATCH`** : Les requêtes HTTP de type `PUT` ou `PATCH` sont généralement employées pour mettre à jour une ressource sur un serveur. Lorsqu'une requête `PUT` ou `PATCH` est reçue, le serveur met à jour une ressource existante et informe le client du résultat de l'opération. Par conséquent, `PUT` ou `PATCH` sont utilisés pour effectuer des opérations de mise à jour.\n",
        "\n",
        "- **`DELETE`** : Cette méthode HTTP est utilisée pour supprimer une ressource sur un serveur. Lorsqu'une requête `DELETE` est reçue, le serveur retire la ressource de la base de données et signale au client le succès ou l'échec de l'opération. En résumé, `DELETE` est utilisée pour effectuer des opérations de suppression.\n",
        "\n",
        "Bien que non essentielles pour les opérations CRUD, les méthodes `OPTIONS` et `HEAD` proposent les fonctionnalités suivantes :\n",
        "\n",
        "- **`HEAD`** : La méthode HTTP `HEAD` est couramment employée pour vérifier si une ressource a été modifiée. Lorsqu'un serveur reçoit une requête `HEAD`, il renvoie les en-têtes de la réponse HTTP, toutefois, le corps de la réponse est omis. Les en-têtes sont utilisés par le client pour déterminer si une ressource a subi des modifications. Un exemple de réponse est illustré ci-dessous :\n",
        "```\n",
        "HTTP/1.1 200 OK\n",
        "X-Powered-By: Express\n",
        "Vary: Origin, Accept-Encoding\n",
        "Access-Control-Allow-Credentials: true\n",
        "Cache-Control: no-cache\n",
        "Pragma: no-cache\n",
        "Expires: -1\n",
        "X-Content-Type-Options: nosniff\n",
        "Content-Type: application/json; charset=utf-8\n",
        "Content-Length: 169\n",
        "ETag: W/\"a9-hFaXT0CwEV/UcaEmhlcSOAZO47Q\"\n",
        "Date: Sun, 06 Mar 2022 22:06:42 GMT\n",
        "```\n",
        "\n",
        "- **`OPTIONS`** : Cette méthode est fréquemment employée pour obtenir des informations sur un point de terminaison de l'API, notamment les méthodes prises en charge. Une réponse à une requête de type `OPTIONS` n'inclut généralement pas de corps. Les en-têtes sont utilisés pour transmettre des informations pertinentes au client. Voici ci-dessous un exemple :\n",
        "```\n",
        "HTTP/1.1 204 No Content\n",
        "X-Powered-By: Express\n",
        "Vary: Origin, Access-Control-Request-Headers\n",
        "Access-Control-Allow-Credentials: true\n",
        "Access-Control-Allow-Methods: GET,HEAD,PUT,PATCH,POST,DELETE\n",
        "Content-Length: 0\n",
        "Date: Sun, 06 Mar 2022 22:07:18 GMT\n",
        "Connection: keep-alive\n",
        "```"
      ],
      "metadata": {
        "id": "yD4kvWfqZdLH"
      }
    },
    {
      "cell_type": "markdown",
      "source": [
        "## Codes d'état HTTP et messages d'erreur\n",
        "\n",
        "Une API REST peut retourner des messages d'erreur qui n'apparaissent que lorsque quelque chose ne va pas avec la demande.\n",
        "\n",
        "Les codes d'état HTTP (de `100+` à `500+`) permettent d'indiquer rapidement l'état de la réponse.\n",
        "\n",
        "En général, les nombres suivent les règles suivantes :\n",
        "\n",
        "* `200+` signifie que la requête a réussi.\n",
        "\n",
        "* `300+` signifie que la requête est redirigée vers une autre URL.\n",
        "\n",
        "* `400+` signifie qu'une erreur provenant du client s'est produite.\n",
        "\n",
        "* `500+` signifie qu'une erreur provenant du serveur s'est produite.\n",
        "\n",
        "Par exemple, si on demande une ressource qui n'existe pas sur le serveur, ce dernier enverra une réponse `404 Not Found`:"
      ],
      "metadata": {
        "id": "8gtuKwSEkGf3"
      }
    },
    {
      "cell_type": "markdown",
      "source": [
        "# Conception d'une API REST avec Express\n",
        "-----------------\n",
        "\n",
        "La conception d'une API REST avec Express implique une utilisation et organisation des routes, des modèles de données et des contrôleurs.\n",
        "\n",
        "* Les routeurs (*routers*) permettent de définir les itinéraires et les points d'accès de l'API. Ils dirigent les requêtes HTTP vers les contrôleurs appropriés, qui contiennent la logique de gestion des demandes.\n",
        "\n",
        "* Les modèles (*models*) représentent la structure des données et leur interaction avec la base de données.\n",
        "\n",
        "* Les contrôleurs (*controllers*) sont responsables de l'exécution des opérations sur les données en fonction des demandes entrantes, puis ils renvoient les réponses correspondantes.\n",
        "\n",
        "Cette approche modulaire facilite la maintenance, l'extensibilité et la collaboration lors du développement d'une API REST avec Express. Elle permet également de séparer clairement les préoccupations liées aux routes, à la logique métier et aux données, améliorant ainsi la lisibilité et la gestion du code source.\n",
        "\n",
        "**Remarques :** Dans l'API que nous allons concevoir dans ce cahier, nous n'irons pas utiliser une base de données réelle. Les bases de données seront étudiées à partir du prochain cours. Dans ce cahier les modèles utilisent des `Map` pour stocker les données en mémoire côté serveur.\n"
      ],
      "metadata": {
        "id": "dgStimHWLnNs"
      }
    },
    {
      "cell_type": "code",
      "source": [
        "\"\"\"\n",
        "Pour modifier le répertoire de travail de Colab et\n",
        "créer quelques dossiers pour mieux structurer le projet.\n",
        "\"\"\"\n",
        "%cd /content/express-mock-api/\n",
        "!mkdir -p models controllers routers"
      ],
      "metadata": {
        "id": "Xh0K0xQ3O6eT",
        "colab": {
          "base_uri": "https://localhost:8080/"
        },
        "outputId": "86b3770c-019c-430e-d428-0f9ef55c8baa"
      },
      "execution_count": null,
      "outputs": [
        {
          "output_type": "stream",
          "name": "stdout",
          "text": [
            "/content/express-mock-api\n"
          ]
        }
      ]
    },
    {
      "cell_type": "markdown",
      "source": [
        "## Initialisation du projet\n",
        "\n",
        "Pour démarrer le projet, il est nécessaire de l'initialiser en utilisant la commande `npm init`, qui créera le fichier `package.json` qui contient des informations sur le projet. Une fois le projet initialisé, nous devons installer les dépendances nécessaires en utilisant la commande `npm install`."
      ],
      "metadata": {
        "id": "DMrfvltnU2Za"
      }
    },
    {
      "cell_type": "code",
      "source": [
        "!npm init -y\n",
        "!npm pkg set type=module"
      ],
      "metadata": {
        "id": "W7KHC4o8YvUm",
        "colab": {
          "base_uri": "https://localhost:8080/"
        },
        "outputId": "e5d276bc-150b-4504-97be-fef40485ae93"
      },
      "execution_count": null,
      "outputs": [
        {
          "output_type": "stream",
          "name": "stdout",
          "text": [
            "\u001b[1G\u001b[0KWrote to /content/express-mock-api/package.json:\n",
            "\n",
            "{\n",
            "  \"name\": \"express-mock-api\",\n",
            "  \"version\": \"1.0.0\",\n",
            "  \"main\": \"index.js\",\n",
            "  \"scripts\": {\n",
            "    \"test\": \"echo \\\"Error: no test specified\\\" && exit 1\"\n",
            "  },\n",
            "  \"keywords\": [],\n",
            "  \"author\": \"\",\n",
            "  \"license\": \"ISC\",\n",
            "  \"description\": \"\"\n",
            "}\n",
            "\n",
            "\n",
            "\n",
            "\u001b[1G\u001b[0K⠙\u001b[1G\u001b[0K\u001b[1G\u001b[0K"
          ]
        }
      ]
    },
    {
      "cell_type": "code",
      "source": [
        "!npm install express @faker-js/faker ejs --save"
      ],
      "metadata": {
        "id": "KueRwDcHY00S",
        "colab": {
          "base_uri": "https://localhost:8080/"
        },
        "outputId": "31e9c58a-fb88-44ea-8e58-10655448b239"
      },
      "execution_count": null,
      "outputs": [
        {
          "output_type": "stream",
          "name": "stdout",
          "text": [
            "\u001b[1G\u001b[0K⠙\u001b[1G\u001b[0K⠹\u001b[1G\u001b[0K⠸\u001b[1G\u001b[0K⠼\u001b[1G\u001b[0K⠴\u001b[1G\u001b[0K⠦\u001b[1G\u001b[0K⠧\u001b[1G\u001b[0K⠇\u001b[1G\u001b[0K⠏\u001b[1G\u001b[0K⠋\u001b[1G\u001b[0K⠙\u001b[1G\u001b[0K⠹\u001b[1G\u001b[0K⠸\u001b[1G\u001b[0K⠼\u001b[1G\u001b[0K⠴\u001b[1G\u001b[0K⠦\u001b[1G\u001b[0K⠧\u001b[1G\u001b[0K⠇\u001b[1G\u001b[0K⠏\u001b[1G\u001b[0K⠋\u001b[1G\u001b[0K⠙\u001b[1G\u001b[0K⠹\u001b[1G\u001b[0K⠸\u001b[1G\u001b[0K⠼\u001b[1G\u001b[0K⠴\u001b[1G\u001b[0K⠦\u001b[1G\u001b[0K⠧\u001b[1G\u001b[0K⠇\u001b[1G\u001b[0K⠏\u001b[1G\u001b[0K⠋\u001b[1G\u001b[0K⠙\u001b[1G\u001b[0K⠹\u001b[1G\u001b[0K⠸\u001b[1G\u001b[0K⠼\u001b[1G\u001b[0K⠴\u001b[1G\u001b[0K⠦\u001b[1G\u001b[0K⠧\u001b[1G\u001b[0K⠇\u001b[1G\u001b[0K⠏\u001b[1G\u001b[0K⠋\u001b[1G\u001b[0K⠙\u001b[1G\u001b[0K⠹\u001b[1G\u001b[0K⠸\u001b[1G\u001b[0K⠼\u001b[1G\u001b[0K⠴\u001b[1G\u001b[0K⠦\u001b[1G\u001b[0K⠧\u001b[1G\u001b[0K⠇\u001b[1G\u001b[0K⠏\u001b[1G\u001b[0K⠋\u001b[1G\u001b[0K⠙\u001b[1G\u001b[0K⠹\u001b[1G\u001b[0K⠸\u001b[1G\u001b[0K⠼\u001b[1G\u001b[0K⠴\u001b[1G\u001b[0K⠦\u001b[1G\u001b[0K⠧\u001b[1G\u001b[0K⠇\u001b[1G\u001b[0K⠏\u001b[1G\u001b[0K⠋\u001b[1G\u001b[0K⠙\u001b[1G\u001b[0K⠹\u001b[1G\u001b[0K⠸\u001b[1G\u001b[0K⠼\u001b[1G\u001b[0K⠴\u001b[1G\u001b[0K⠦\u001b[1G\u001b[0K⠧\u001b[1G\u001b[0K⠇\u001b[1G\u001b[0K⠏\u001b[1G\u001b[0K⠋\u001b[1G\u001b[0K\n",
            "added 84 packages, and audited 85 packages in 6s\n",
            "\u001b[1G\u001b[0K⠋\u001b[1G\u001b[0K\n",
            "\u001b[1G\u001b[0K⠋\u001b[1G\u001b[0K17 packages are looking for funding\n",
            "\u001b[1G\u001b[0K⠋\u001b[1G\u001b[0K  run `npm fund` for details\n",
            "\u001b[1G\u001b[0K⠋\u001b[1G\u001b[0K\n",
            "found \u001b[32m\u001b[1m0\u001b[22m\u001b[39m vulnerabilities\n",
            "\u001b[1G\u001b[0K⠋\u001b[1G\u001b[0K"
          ]
        }
      ]
    },
    {
      "cell_type": "markdown",
      "source": [
        "## Les modèles\n",
        "\n",
        "Dans le contexte d'une API, les modèles définissent la structure des données que l'API gère. Ils agissent comme des modèles conceptuels pour les informations que l'API stocke, récupère et manipule. Chaque modèle correspond à un type spécifique d'entité, avec des propriétés et des attributs spécifiques.\n",
        "\n",
        "Dans le cadre de notre API, nous allons proposer deux modèles : `users` et `products`.\n",
        "\n",
        "* Le modèle `users` inclut des propriétés telles que le nom, l'adresse, et le numéro de téléphone.\n",
        "* Le modèle `products` comprend des informations telles que le nom du produit, la description et le prix.\n",
        "\n",
        "Pour générer des données aléatoires pour ces modèles, nous allons utiliser une bibliothèque [Faker.js](https://fakerjs.dev/). Faker.js est une bibliothèque JavaScript qui permet de créer des données fictives, telles que des noms, des adresses, des dates, etc.\n",
        "\n",
        "### Le modèle `users` :"
      ],
      "metadata": {
        "id": "gsVHjfpYNgES"
      }
    },
    {
      "cell_type": "code",
      "source": [
        "%%javascript --target=disk --filename=models/users.js\n",
        "\n",
        "import {fakerFR_CA as faker} from '@faker-js/faker';\n",
        "\n",
        "faker.seed(525);\n",
        "const numberUsers = 15;\n",
        "\n",
        "const createUsers = (nUsers) => {\n",
        "\n",
        "  const users = new Map();\n",
        "  for (let i = 0; i < nUsers; i++) {\n",
        "    const gender = faker.person.sexType();\n",
        "    const user = {\n",
        "      _id: faker.string.uuid(),\n",
        "      firstName: faker.person.firstName(gender),\n",
        "      lastName: faker.person.lastName(gender),\n",
        "      address: faker.location.street(),\n",
        "      city: faker.location.city(),\n",
        "      province: faker.location.state({abbreviated: true}),\n",
        "      birthday: faker.date.birthdate().toISOString().split('T').shift(),\n",
        "      phone: faker.phone.number()\n",
        "    }\n",
        "    users.set(user._id, user);\n",
        "  }\n",
        "  return users;\n",
        "}\n",
        "\n",
        "class UserModel {\n",
        "  constructor() {\n",
        "    this.data = createUsers(numberUsers);\n",
        "  }\n",
        "\n",
        "  addUser(user) {\n",
        "    user._id = faker.string.uuid();\n",
        "    this.data.set(user._id, user);\n",
        "    return user;\n",
        "  }\n",
        "\n",
        "  find(userId) {\n",
        "    return this.data.get(userId);\n",
        "  }\n",
        "\n",
        "  allUsers() {\n",
        "    return Object.values(Object.fromEntries(this.data));\n",
        "  }\n",
        "}\n",
        "\n",
        "export default new UserModel();"
      ],
      "metadata": {
        "id": "EcJVWMo4QB8L"
      },
      "execution_count": null,
      "outputs": []
    },
    {
      "cell_type": "code",
      "source": [
        "!ls models"
      ],
      "metadata": {
        "colab": {
          "base_uri": "https://localhost:8080/"
        },
        "id": "ngHHZOHSKRvo",
        "outputId": "171f20b9-6cb6-4431-f8ad-785177103aaf"
      },
      "execution_count": null,
      "outputs": [
        {
          "output_type": "stream",
          "name": "stdout",
          "text": [
            "users.js\n"
          ]
        }
      ]
    },
    {
      "cell_type": "markdown",
      "source": [
        "### Le modèle `products` :"
      ],
      "metadata": {
        "id": "G69awF-LQlge"
      }
    },
    {
      "cell_type": "code",
      "source": [
        "%%javascript --target=disk --filename=models/products.js\n",
        "\n",
        "import {fakerFR_CA as faker} from '@faker-js/faker';\n",
        "\n",
        "faker.seed(525);\n",
        "const numberProducts = 50;\n",
        "\n",
        "const createProducts = (nProducts) => {\n",
        "  const products = new Map();\n",
        "  for (let i = 0; i < nProducts; i++) {\n",
        "    const prod = {\n",
        "      _id: faker.string.uuid(),\n",
        "      name: faker.commerce.productName(),\n",
        "      description: faker.commerce.productDescription(),\n",
        "      price: faker.commerce.price({min: 10, max: 200, dec: 2, symbol: 'C$'})\n",
        "    }\n",
        "    products.set(prod._id, prod);\n",
        "  }\n",
        "  return products;\n",
        "}\n",
        "\n",
        "class ProductModel {\n",
        "  constructor() {\n",
        "    this.data = createProducts(numberProducts);\n",
        "  }\n",
        "\n",
        "  addProduct(prod) {\n",
        "    prod._id = faker.string.uuid();\n",
        "    this.data.set(prod._id, prod);\n",
        "    return prod;\n",
        "  }\n",
        "\n",
        "  find(prodId) {\n",
        "    return this.data.get(prodId);\n",
        "  }\n",
        "\n",
        "  allProducts() {\n",
        "    return Object.values(Object.fromEntries(this.data));\n",
        "  }\n",
        "}\n",
        "\n",
        "export default new ProductModel();"
      ],
      "metadata": {
        "id": "PE4F3HYdQpWq"
      },
      "execution_count": null,
      "outputs": []
    },
    {
      "cell_type": "markdown",
      "source": [
        "## Les contrôleurs\n",
        "\n",
        "Les contrôleurs sont des composants qui gèrent la logique métier de l'API, en déterminant comment répondre aux différentes requêtes entrantes. Ils agissent comme des intermédiaires entre les routes de l'API et les modèles de données.\n",
        "\n",
        "Lorsqu'une requête HTTP arrive sur une route particulière, le contrôleur associé est responsable de l'exécution des actions nécessaires pour répondre à cette requête. Cette logique peut inclure la validation des données, l'accès à la base de données, la modification des données, ou la préparation de la réponse HTTP.\n",
        "\n",
        "### Module utilitaire aux contrôleurs :"
      ],
      "metadata": {
        "id": "SU9bruzPRVj2"
      }
    },
    {
      "cell_type": "code",
      "source": [
        "%%javascript --target=disk --filename=controllers/util.js\n",
        "\n",
        "export class Response {\n",
        "\n",
        "    constructor(code, message, data) {\n",
        "        this.code = code;\n",
        "        this.message = message;\n",
        "        this.data = data;\n",
        "    }\n",
        "\n",
        "    static ok(data) {\n",
        "        return new Response(200, \"OK\", data);\n",
        "    }\n",
        "\n",
        "    static error(code, message, data) {\n",
        "        return new Response(code, message, data);\n",
        "    }\n",
        "}"
      ],
      "metadata": {
        "id": "IDHJclypR-xr"
      },
      "execution_count": null,
      "outputs": []
    },
    {
      "cell_type": "markdown",
      "source": [
        "### Le contrôleur pour les produits :"
      ],
      "metadata": {
        "id": "8rCJwC3sR02l"
      }
    },
    {
      "cell_type": "code",
      "source": [
        "%%javascript --target=disk --filename=controllers/products.js\n",
        "\n",
        "import model from \"../models/products.js\";\n",
        "import {Response} from \"./util.js\";\n",
        "\n",
        "export async function allProducts(req, res) {\n",
        "  res.json(Response.ok(model.allProducts()));\n",
        "}\n",
        "\n",
        "export async function addProduct(req, res) {\n",
        "  const prod = model.addProduct(req.body);\n",
        "  if (prod) {\n",
        "    res.json(Response.ok(prod));\n",
        "  } else {\n",
        "    res.status(505);\n",
        "    res.json(Response.error(505, \"Erreur d'ajout de produit\"));\n",
        "  }\n",
        "}\n",
        "\n",
        "export async function findProduct(req, res) {\n",
        "  let prod = model.find(req.params.prodId);\n",
        "  if (prod === undefined) {\n",
        "    res.status(404);\n",
        "    res.json(Response.error(404, \"Produit pas trouvé.\"));\n",
        "  } else {\n",
        "    res.json(Response.ok(prod));\n",
        "  }\n",
        "}"
      ],
      "metadata": {
        "id": "85X-otr6RjRt"
      },
      "execution_count": null,
      "outputs": []
    },
    {
      "cell_type": "markdown",
      "source": [
        "### Le contrôleur pour les utilisateurs :"
      ],
      "metadata": {
        "id": "LWYniUv7SJrC"
      }
    },
    {
      "cell_type": "code",
      "source": [
        "%%javascript --target=disk --filename=controllers/users.js\n",
        "\n",
        "import model from \"../models/users.js\";\n",
        "import {Response} from \"./util.js\";\n",
        "\n",
        "export async function allUsers(req, res) {\n",
        "  res.json(Response.ok(model.allUsers()));\n",
        "}\n",
        "\n",
        "export async function addUser(req, res) {\n",
        "  const user = model.addUser(req.body);\n",
        "  if (user) {\n",
        "    res.json(Response.ok(user));\n",
        "  } else {\n",
        "    res.status(505);\n",
        "    res.json(Response.error(505, \"Erreur d'ajout d'utilisateur\"));\n",
        "  }\n",
        "}\n",
        "\n",
        "export async function findUser(req, res) {\n",
        "  let user = model.find(req.params.userId);\n",
        "  if (user === undefined) {\n",
        "    res.status(404);\n",
        "    res.json(Response.error(404, \"Utilisateur pas trouvé.\"));\n",
        "  } else {\n",
        "    res.json(Response.ok(user));\n",
        "  }\n",
        "}"
      ],
      "metadata": {
        "id": "t_EGmpN-SWSn"
      },
      "execution_count": null,
      "outputs": []
    },
    {
      "cell_type": "markdown",
      "source": [
        "## Les routeurs\n",
        "\n",
        "Les routeurs agissent comme des gestionnaires de flux de trafic, dirigeant les requêtes HTTP vers les destinations appropriées en fonction de l'URI (*Uniform Resource Identifier*) demandée.\n",
        "\n",
        "Les routeurs déterminent quelles actions ou contrôleurs doivent être appelés pour répondre à une requête spécifique. Ils permettent de diviser l'application en segments logiques et de définir des groupes de routes en fonction de leur contexte et de leur fonction.\n",
        "\n",
        "### Le routeur pour les utilisateurs :"
      ],
      "metadata": {
        "id": "ij9V6qawTRYh"
      }
    },
    {
      "cell_type": "code",
      "source": [
        "%%javascript --target=disk --filename=routers/users.js\n",
        "\n",
        "import {Router} from \"express\";\n",
        "import * as controller from \"../controllers/users.js\";\n",
        "\n",
        "const router = Router();\n",
        "\n",
        "router.route(\"/api/users\")\n",
        "  .get(controller.allUsers)\n",
        "  .post(controller.addUser);\n",
        "\n",
        "router.route(\"/api/users/:userId\")\n",
        "  .get(controller.findUser);\n",
        "\n",
        "export default router;"
      ],
      "metadata": {
        "id": "UujxwjBgTizO"
      },
      "execution_count": null,
      "outputs": []
    },
    {
      "cell_type": "markdown",
      "source": [
        "### Le routeur pour les produits :"
      ],
      "metadata": {
        "id": "wvwDciJ_TsdP"
      }
    },
    {
      "cell_type": "code",
      "source": [
        "%%javascript --target=disk --filename=routers/products.js\n",
        "\n",
        "import {Router} from \"express\";\n",
        "import * as controller from \"../controllers/products.js\";\n",
        "\n",
        "const router = Router();\n",
        "\n",
        "router.route(\"/api/products\")\n",
        "  .get(controller.allProducts)\n",
        "  .post(controller.addProduct);\n",
        "\n",
        "router.route(\"/api/products/:prodId\")\n",
        "  .get(controller.findProduct);\n",
        "\n",
        "export default router;"
      ],
      "metadata": {
        "id": "oAVSbRjiTyX2"
      },
      "execution_count": null,
      "outputs": []
    },
    {
      "cell_type": "markdown",
      "source": [
        "## L'application principale\n",
        "\n",
        "Finalement, le fichier `index.js` fera l'intégration des routeurs pour diriger le trafic des requêtes. Le fichier démarre l'instance d'Express, puis relie les routeurs pour gérer les différentes parties de l'application."
      ],
      "metadata": {
        "id": "m7f6DC4nUiL3"
      }
    },
    {
      "cell_type": "code",
      "source": [
        "%%javascript --target=node --filename=index.js --port=3000\n",
        "\n",
        "import express from 'express';\n",
        "import prodRouter from \"./routers/products.js\";\n",
        "import userRouter from \"./routers/users.js\";\n",
        "\n",
        "const PORT = process.env.NODE_PORT || 3000;\n",
        "\n",
        "const app = express();\n",
        "app.use(express.json());\n",
        "app.use(prodRouter);\n",
        "app.use(userRouter);\n",
        "\n",
        "app.listen(PORT, () => {\n",
        "  console.log(`Serveur écoutant sur le port ${PORT}`)\n",
        "});"
      ],
      "metadata": {
        "id": "jSTcPa7DUlyI",
        "colab": {
          "base_uri": "https://localhost:8080/"
        },
        "outputId": "d8752ed1-b5b7-4994-fb32-3f126ffcb016"
      },
      "execution_count": null,
      "outputs": [
        {
          "output_type": "stream",
          "name": "stdout",
          "text": [
            "Serveur écoutant sur le port 3000\n"
          ]
        }
      ]
    },
    {
      "cell_type": "markdown",
      "source": [
        "## Tester l'API REST à l'aide de `curl`\n",
        "\n",
        "Une fois le serveur démarré, nous pouvons utiliser `curl` pour tester notre API.\n",
        "\n",
        "Pour obtenir la liste des utilisateurs :"
      ],
      "metadata": {
        "id": "10TVyqCPZJ3A"
      }
    },
    {
      "cell_type": "code",
      "source": [
        "!curl -s http://localhost:3000/api/users | json_pp"
      ],
      "metadata": {
        "id": "3ojzb17aZVZK",
        "colab": {
          "base_uri": "https://localhost:8080/"
        },
        "outputId": "1c06747e-b2dc-4f23-e217-c7bef7d48856"
      },
      "execution_count": null,
      "outputs": [
        {
          "output_type": "stream",
          "name": "stdout",
          "text": [
            "{\n",
            "   \"code\" : 200,\n",
            "   \"data\" : [\n",
            "      {\n",
            "         \"_id\" : \"6c5fbd39-b7d8-4cc3-93c9-9934888ae7dd\",\n",
            "         \"address\" : \"Bénédicte Pierre Charron\",\n",
            "         \"birthday\" : \"1972-02-13\",\n",
            "         \"city\" : \"South Joachimshire\",\n",
            "         \"firstName\" : \"Sylvestre\",\n",
            "         \"lastName\" : \"Guerin\",\n",
            "         \"phone\" : \"628 766-4092, poste 363\",\n",
            "         \"province\" : \"NU\"\n",
            "      },\n",
            "      {\n",
            "         \"_id\" : \"8dbec0ec-1f5d-417f-88e8-5ec8c0e8a6c2\",\n",
            "         \"address\" : \"Sanchez Delesseux\",\n",
            "         \"birthday\" : \"1987-04-13\",\n",
            "         \"city\" : \"Lake Corentinehaven\",\n",
            "         \"firstName\" : \"Valère\",\n",
            "         \"lastName\" : \"Marie\",\n",
            "         \"phone\" : \"136 183-4032\",\n",
            "         \"province\" : \"YK\"\n",
            "      },\n",
            "      {\n",
            "         \"_id\" : \"a1be916f-a8e8-482b-87e6-61cee2bb3440\",\n",
            "         \"address\" : \"Raymonde de la Bûcherie\",\n",
            "         \"birthday\" : \"1987-11-28\",\n",
            "         \"city\" : \"Fort Louptown\",\n",
            "         \"firstName\" : \"Josse\",\n",
            "         \"lastName\" : \"Bourgeois\",\n",
            "         \"phone\" : \"1 872 046-2947\",\n",
            "         \"province\" : \"NB\"\n",
            "      },\n",
            "      {\n",
            "         \"_id\" : \"cbc0340d-6425-4677-b414-3d469c371415\",\n",
            "         \"address\" : \"Gisèle des Rosiers\",\n",
            "         \"birthday\" : \"1971-01-24\",\n",
            "         \"city\" : \"Athinabury\",\n",
            "         \"firstName\" : \"Stanislas\",\n",
            "         \"lastName\" : \"Mathieu\",\n",
            "         \"phone\" : \"661 544-9373\",\n",
            "         \"province\" : \"QC\"\n",
            "      },\n",
            "      {\n",
            "         \"_id\" : \"850533fe-23c1-4fb7-8df6-421484ad6afd\",\n",
            "         \"address\" : \"Brun Saint-Bernard\",\n",
            "         \"birthday\" : \"1983-09-03\",\n",
            "         \"city\" : \"Théophilefield\",\n",
            "         \"firstName\" : \"Colin\",\n",
            "         \"lastName\" : \"Perez\",\n",
            "         \"phone\" : \"796 868-3175, poste 142\",\n",
            "         \"province\" : \"ON\"\n",
            "      },\n",
            "      {\n",
            "         \"_id\" : \"5338efe9-5344-465e-93f3-ad5af26b5ed8\",\n",
            "         \"address\" : \"Archange de Rivoli\",\n",
            "         \"birthday\" : \"1973-02-08\",\n",
            "         \"city\" : \"Rodrigueview\",\n",
            "         \"firstName\" : \"Philothée\",\n",
            "         \"lastName\" : \"Dubois\",\n",
            "         \"phone\" : \"463 450-6377, poste 764\",\n",
            "         \"province\" : \"NL\"\n",
            "      },\n",
            "      {\n",
            "         \"_id\" : \"2c1ec3cf-7683-4f58-95a3-ac6efe5b00f8\",\n",
            "         \"address\" : \"Adolphie La Boétie\",\n",
            "         \"birthday\" : \"1969-04-21\",\n",
            "         \"city\" : \"New Adjutorborough\",\n",
            "         \"firstName\" : \"Roselin\",\n",
            "         \"lastName\" : \"Giraud\",\n",
            "         \"phone\" : \"273 047-2118, poste 547\",\n",
            "         \"province\" : \"AB\"\n",
            "      },\n",
            "      {\n",
            "         \"_id\" : \"c654e2a3-07f1-441b-b47c-596b47ec201c\",\n",
            "         \"address\" : \"Roméo de Presbourg\",\n",
            "         \"birthday\" : \"1996-06-26\",\n",
            "         \"city\" : \"East Cédric\",\n",
            "         \"firstName\" : \"Gédéon\",\n",
            "         \"lastName\" : \"Rolland\",\n",
            "         \"phone\" : \"921 834-5043, poste 966\",\n",
            "         \"province\" : \"ON\"\n",
            "      },\n",
            "      {\n",
            "         \"_id\" : \"ab78e1bf-c466-48db-a582-510ec604a87f\",\n",
            "         \"address\" : \"Cousin du Dahomey\",\n",
            "         \"birthday\" : \"1963-11-28\",\n",
            "         \"city\" : \"Archibaldburgh\",\n",
            "         \"firstName\" : \"Merlin\",\n",
            "         \"lastName\" : \"Richard\",\n",
            "         \"phone\" : \"1 226 118-4393\",\n",
            "         \"province\" : \"ON\"\n",
            "      },\n",
            "      {\n",
            "         \"_id\" : \"c21ebafe-4391-412f-98c0-38fa735d4204\",\n",
            "         \"address\" : \"Lemoine du Chat-qui-Pêche\",\n",
            "         \"birthday\" : \"1944-08-17\",\n",
            "         \"city\" : \"Raymondefurt\",\n",
            "         \"firstName\" : \"Gilbert\",\n",
            "         \"lastName\" : \"Thomas\",\n",
            "         \"phone\" : \"829 646-9212\",\n",
            "         \"province\" : \"SK\"\n",
            "      },\n",
            "      {\n",
            "         \"_id\" : \"849fac9b-1b8b-41f4-ab5a-7dd14dadd5b5\",\n",
            "         \"address\" : \"Dubois d'Assas\",\n",
            "         \"birthday\" : \"2007-04-04\",\n",
            "         \"city\" : \"South Samuelmouth\",\n",
            "         \"firstName\" : \"Arsinoé\",\n",
            "         \"lastName\" : \"Nicolas\",\n",
            "         \"phone\" : \"026 205-1833\",\n",
            "         \"province\" : \"ON\"\n",
            "      },\n",
            "      {\n",
            "         \"_id\" : \"fbdbf06c-cc76-46b0-8a09-6d0207eebf28\",\n",
            "         \"address\" : \"Agnès du Dahomey\",\n",
            "         \"birthday\" : \"1971-07-30\",\n",
            "         \"city\" : \"North Désiré\",\n",
            "         \"firstName\" : \"Patrice\",\n",
            "         \"lastName\" : \"Schmitt\",\n",
            "         \"phone\" : \"467 504-9392, poste 643\",\n",
            "         \"province\" : \"YK\"\n",
            "      },\n",
            "      {\n",
            "         \"_id\" : \"238f3d7c-f7ec-4c25-8791-df0e758d59f2\",\n",
            "         \"address\" : \"Pierrick de Richelieu\",\n",
            "         \"birthday\" : \"1958-04-07\",\n",
            "         \"city\" : \"Thomasfurt\",\n",
            "         \"firstName\" : \"Timothée\",\n",
            "         \"lastName\" : \"Robert\",\n",
            "         \"phone\" : \"1 858 971-1044\",\n",
            "         \"province\" : \"NL\"\n",
            "      },\n",
            "      {\n",
            "         \"_id\" : \"a847f5c9-7b8b-4321-a5da-ec5f949e1626\",\n",
            "         \"address\" : \"Alphonse de Paris\",\n",
            "         \"birthday\" : \"1969-11-14\",\n",
            "         \"city\" : \"South Raymondeberg\",\n",
            "         \"firstName\" : \"Eva\",\n",
            "         \"lastName\" : \"Pons\",\n",
            "         \"phone\" : \"1 201 470-8109\",\n",
            "         \"province\" : \"NL\"\n",
            "      },\n",
            "      {\n",
            "         \"_id\" : \"759aa546-f3b6-43c3-afb0-21c3c8446daa\",\n",
            "         \"address\" : \"Huguette Oberkampf\",\n",
            "         \"birthday\" : \"1997-12-08\",\n",
            "         \"city\" : \"South Claudinefort\",\n",
            "         \"firstName\" : \"Adam\",\n",
            "         \"lastName\" : \"Guillaume\",\n",
            "         \"phone\" : \"034 714-2086\",\n",
            "         \"province\" : \"PE\"\n",
            "      }\n",
            "   ],\n",
            "   \"message\" : \"OK\"\n",
            "}\n"
          ]
        }
      ]
    },
    {
      "cell_type": "markdown",
      "source": [
        "Pour obtenir des informations sur l'utilsateur dont l ídentifiant est `a75c3569-d6db-4f48-a76e-6c02e0116cce` :"
      ],
      "metadata": {
        "id": "TfaglYk-apBy"
      }
    },
    {
      "cell_type": "code",
      "source": [
        "!curl -s http://localhost:3000/api/users/759aa546-f3b6-43c3-afb0-21c3c8446daa | json_pp"
      ],
      "metadata": {
        "id": "lf3Xozb8a2P-",
        "colab": {
          "base_uri": "https://localhost:8080/"
        },
        "outputId": "03a6b9c1-fc22-4057-cada-0aa7cba056df"
      },
      "execution_count": null,
      "outputs": [
        {
          "output_type": "stream",
          "name": "stdout",
          "text": [
            "{\n",
            "   \"code\" : 200,\n",
            "   \"data\" : {\n",
            "      \"_id\" : \"759aa546-f3b6-43c3-afb0-21c3c8446daa\",\n",
            "      \"address\" : \"Huguette Oberkampf\",\n",
            "      \"birthday\" : \"1997-12-08\",\n",
            "      \"city\" : \"South Claudinefort\",\n",
            "      \"firstName\" : \"Adam\",\n",
            "      \"lastName\" : \"Guillaume\",\n",
            "      \"phone\" : \"034 714-2086\",\n",
            "      \"province\" : \"PE\"\n",
            "   },\n",
            "   \"message\" : \"OK\"\n",
            "}\n"
          ]
        }
      ]
    },
    {
      "cell_type": "markdown",
      "source": [
        "Pour obtenir la liste des produits :"
      ],
      "metadata": {
        "id": "Hgj6Wga9a-Uq"
      }
    },
    {
      "cell_type": "code",
      "source": [
        "!curl -s http://localhost:3000/api/products | json_pp"
      ],
      "metadata": {
        "id": "qWfvD7KobDB2",
        "colab": {
          "base_uri": "https://localhost:8080/"
        },
        "outputId": "9b700848-6b65-4ac4-e84f-f48728d893ff"
      },
      "execution_count": null,
      "outputs": [
        {
          "output_type": "stream",
          "name": "stdout",
          "text": [
            "{\n",
            "   \"code\" : 200,\n",
            "   \"data\" : [\n",
            "      {\n",
            "         \"_id\" : \"c6c5fbd3-9b7d-48cc-b33c-99934888ae7d\",\n",
            "         \"description\" : \"Lanterne cuivre fort, finement nickelé, chute d'eau réglable, suspension antivibratrice, projecteur diamètre cm2, avec verre bombé. Durée d'éclairage 3 heures. Poids 395 grammes.\",\n",
            "         \"name\" : \"Luxueux Métal Fromage\",\n",
            "         \"price\" : \"C$96.05\"\n",
            "      },\n",
            "      {\n",
            "         \"_id\" : \"179e87ba-3cc9-4a60-be46-a588dbec0ec1\",\n",
            "         \"description\" : \"Lunettes étanches, monture caoutchouc moulé de 1re qual. glaces rondes de 55 mm de diam. en verre clair. Les lunettes protègent les yeux contre les poussières, fumées et gaz industriels et se portent av. nos masques 5862-5864. Pds 60 gr.\",\n",
            "         \"name\" : \"Intelligent Métal Chapeau\",\n",
            "         \"price\" : \"C$196.40\"\n",
            "      },\n",
            "      {\n",
            "         \"_id\" : \"85ec8c0e-8a6c-422e-ac98-0f31b6dfa124\",\n",
            "         \"description\" : \"Lunettes étanches, monture caoutchouc moulé de 1re qual. glaces rondes de 55 mm de diam. en verre clair. Les lunettes protègent les yeux contre les poussières, fumées et gaz industriels et se portent av. nos masques 5862-5864. Pds 60 gr.\",\n",
            "         \"name\" : \"Fait main Métal Fromage\",\n",
            "         \"price\" : \"C$16.89\"\n",
            "      },\n",
            "      {\n",
            "         \"_id\" : \"fa1be916-fa8e-4882-8b7e-661cee2bb344\",\n",
            "         \"description\" : \"Cadre raccord brasé de 53 ou 58 %. Jantes en acier émaillées. Pneus “Hiron” 700 x 35, garantis 12 mois. Pignon roue libre à emboitement hexagonal. Frein “Hirondelle” sur jante arrière. Garde-boue métal.\",\n",
            "         \"name\" : \"Génial Doux Vélo\",\n",
            "         \"price\" : \"C$47.69\"\n",
            "      },\n",
            "      {\n",
            "         \"_id\" : \"2fa04bac-c317-494f-97cb-cbc0340d6425\",\n",
            "         \"description\" : \"Cadre raccord brasé de 53 ou 58 %. Jantes en acier émaillées. Pneus “Hiron” 700 x 35, garantis 12 mois. Pignon roue libre à emboitement hexagonal. Frein “Hirondelle” sur jante arrière. Garde-boue métal.\",\n",
            "         \"name\" : \"Magnifique Congelé Frites\",\n",
            "         \"price\" : \"C$67.10\"\n",
            "      },\n",
            "      {\n",
            "         \"_id\" : \"469c3714-15fd-45a4-98b8-35c60ab2867f\",\n",
            "         \"description\" : \"Maillot en coton fin à rayures se boutonnant devant pour enfants.\",\n",
            "         \"name\" : \"Rustique Caoutchouc Saucisses\",\n",
            "         \"price\" : \"C$79.99\"\n",
            "      },\n",
            "      {\n",
            "         \"_id\" : \"33fe23c1-fb7d-4f64-a214-84ad6afd250c\",\n",
            "         \"description\" : \"Moteur Villiers. Puissance au frein : 7 HP, 3 vitesses, lancement au pied, éclairage électrique, carrosserie 2 places, coffre à outils, outillage complet, capote et pare-brise.\",\n",
            "         \"name\" : \"Oriental Bois Souris\",\n",
            "         \"price\" : \"C$183.45\"\n",
            "      },\n",
            "      {\n",
            "         \"_id\" : \"9dcead9d-52c9-4174-bc53-38efe9534465\",\n",
            "         \"description\" : \"Moteur Villiers. Puissance au frein : 7 HP, 3 vitesses, lancement au pied, éclairage électrique, carrosserie 2 places, coffre à outils, outillage complet, capote et pare-brise.\",\n",
            "         \"name\" : \"Générique Plastique Clavier\",\n",
            "         \"price\" : \"C$173.15\"\n",
            "      },\n",
            "      {\n",
            "         \"_id\" : \"f26b5ed8-5c33-443b-b8d6-57f7a5780a6b\",\n",
            "         \"description\" : \"Rasoir de sûreté “Prima” tout en laiton massif nickelé chromé, manche moleté bien en main. Peigne et contre-peigne galbés tenant tout d'une pièce, fermeture à charnière, blocage instantané de la lame.\",\n",
            "         \"name\" : \"Recyclé Doux Ordinateur\",\n",
            "         \"price\" : \"C$38.79\"\n",
            "      },\n",
            "      {\n",
            "         \"_id\" : \"ec3cf768-3f58-45a3-9ac6-efe5b00f84d0\",\n",
            "         \"description\" : \"Carrosserie en tôle d'acier laqué blanc montée sur roues pour faciliter le déplacement, couvercle laqué blanc, dessus et cuve en métal émaille marron, inaltérable a l'eau de lessive et a la chaleur,\",\n",
            "         \"name\" : \"Licencié Acier Chapeau\",\n",
            "         \"price\" : \"C$117.89\"\n",
            "      },\n",
            "      {\n",
            "         \"_id\" : \"06b4b417-b432-4d97-8ccc-654e2a307f14\",\n",
            "         \"description\" : \"Rasoir de sûreté “Prima” tout en laiton massif nickelé chromé, manche moleté bien en main. Peigne et contre-peigne galbés tenant tout d'une pièce, fermeture à charnière, blocage instantané de la lame.\",\n",
            "         \"name\" : \"Raffiné Béton Pantalon\",\n",
            "         \"price\" : \"C$71.49\"\n",
            "      },\n",
            "      {\n",
            "         \"_id\" : \"b47ec201-ce8d-4e7d-9a52-6adee32d5680\",\n",
            "         \"description\" : \"Montre-bracelet, dite “d'Aviateur”, métal inaltérable, diam. 435ym. Mouvement de précision chronographe, cadran avec grande aiguille trotteuse, permettant la lecture 1/25de seconde.\",\n",
            "         \"name\" : \"Licencié Plastique Poulet\",\n",
            "         \"price\" : \"C$182.85\"\n",
            "      },\n",
            "      {\n",
            "         \"_id\" : \"78e1bfc4-668d-4b58-9251-0ec604a87f9b\",\n",
            "         \"description\" : \"Carrosserie en tôle d'acier laqué blanc montée sur roues pour faciliter le déplacement, couvercle laqué blanc, dessus et cuve en métal émaille marron, inaltérable a l'eau de lessive et a la chaleur,\",\n",
            "         \"name\" : \"Savoureux Frais Pantalon\",\n",
            "         \"price\" : \"C$51.79\"\n",
            "      },\n",
            "      {\n",
            "         \"_id\" : \"3a4634a2-1d75-4f6c-ac21-ebafe439112f\",\n",
            "         \"description\" : \"Maillot en coton fin à rayures se boutonnant devant pour enfants.\",\n",
            "         \"name\" : \"Rustique Acier Clavier\",\n",
            "         \"price\" : \"C$196.79\"\n",
            "      },\n",
            "      {\n",
            "         \"_id\" : \"35d42044-79f9-4082-88d9-e01d3fa7ae42\",\n",
            "         \"description\" : \"Montre-bracelet, dite “d'Aviateur”, métal inaltérable, diam. 435ym. Mouvement de précision chronographe, cadran avec grande aiguille trotteuse, permettant la lecture 1/25de seconde.\",\n",
            "         \"name\" : \"Incroyable Coton Fromage\",\n",
            "         \"price\" : \"C$193.05\"\n",
            "      },\n",
            "      {\n",
            "         \"_id\" : \"9b1b8b1f-4b5a-47dd-814d-add5b5936bd6\",\n",
            "         \"description\" : \"Récepteurs de télévision à haute définition 819 lignes, donnant une image très nette et d'un contraste agréable ne fatiguant pas la vue, le montage de la partie radio donne un son absolument remarquable.\",\n",
            "         \"name\" : \"Ergonomique Acier Ordinateur\",\n",
            "         \"price\" : \"C$108.46\"\n",
            "      },\n",
            "      {\n",
            "         \"_id\" : \"303a3181-d668-4fbd-9bf0-6ccc766b0a09\",\n",
            "         \"description\" : \"Bicyclette à 1 vitesse, pneus 1/2 ballon. Cadre de 52cm. Jantes chromées. Roue Hore.  Moyeux indéréglables. 2 freins sur jantes. Guidon trials. Garde-boue et couvre chaine en acier émaillé. Porte-bagages. Gardejupes. Pédales à blocs caoutchouc. Émail couleur. Selle route cuir. Sacoche avec outillage. Pompe de cadre. Timbre avertisseur.\",\n",
            "         \"name\" : \"Savoureux Acier Chaussures\",\n",
            "         \"price\" : \"C$103.28\"\n",
            "      },\n",
            "      {\n",
            "         \"_id\" : \"bf283c2f-4035-406e-b6f7-ab817f6e3a66\",\n",
            "         \"description\" : \"Tous nos appareils sont blindés pour que leur rayonnement ne trouble pas les récepteurs radiophoniques, et ils fonctionnent sur courant alternatif 50 riodes 110 et 220 volts. Ils sont garantis pendant 1 an; toutefois, suivant la règle, le tube cathodique est garanti pour 6 mois seulement.\",\n",
            "         \"name\" : \"Fantastique Bronze Poisson\",\n",
            "         \"price\" : \"C$49.19\"\n",
            "      },\n",
            "      {\n",
            "         \"_id\" : \"cf7ecc25-791d-4f0e-a758-d59f23e0d6cb\",\n",
            "         \"description\" : \"Ce magnifique radio-phono comprend un excellent récepteur radioL'ensemble, dans une belle ébénisterie teintée palissandre, forme un très phonique 6 lampes et un tourne-disque de vitesses placé sous le couvercle. Beau meuble. Ce modèle, dont le montage particulièrement soigne assure un très bon rendement aussi bien en radio qu'en phono, est garanti mn an.\",\n",
            "         \"name\" : \"Sur mesure Doux Fromage\",\n",
            "         \"price\" : \"C$129.65\"\n",
            "      },\n",
            "      {\n",
            "         \"_id\" : \"cec22077-0a84-47f5-bc97-b8b3215daec5\",\n",
            "         \"description\" : \"Récepteurs de télévision à haute définition 819 lignes, donnant une image très nette et d'un contraste agréable ne fatiguant pas la vue, le montage de la partie radio donne un son absolument remarquable.\",\n",
            "         \"name\" : \"Petit Béton Poulet\",\n",
            "         \"price\" : \"C$31.69\"\n",
            "      },\n",
            "      {\n",
            "         \"_id\" : \"6b8cd011-17d3-456a-a412-6b1d31f9759a\",\n",
            "         \"description\" : \"Tous nos appareils sont blindés pour que leur rayonnement ne trouble pas les récepteurs radiophoniques, et ils fonctionnent sur courant alternatif 50 riodes 110 et 220 volts. Ils sont garantis pendant 1 an; toutefois, suivant la règle, le tube cathodique est garanti pour 6 mois seulement.\",\n",
            "         \"name\" : \"Intelligent Béton Lard\",\n",
            "         \"price\" : \"C$53.29\"\n",
            "      },\n",
            "      {\n",
            "         \"_id\" : \"3c3fb021-c3c8-4446-bdaa-80f6198375bb\",\n",
            "         \"description\" : \"Lanterne cuivre fort, finement nickelé, chute d'eau réglable, suspension antivibratrice, projecteur diamètre cm2, avec verre bombé. Durée d'éclairage 3 heures. Poids 395 grammes.\",\n",
            "         \"name\" : \"Incroyable Bois Gants\",\n",
            "         \"price\" : \"C$156.79\"\n",
            "      },\n",
            "      {\n",
            "         \"_id\" : \"40cb54bc-123f-47ec-8d59-9f14142558ae\",\n",
            "         \"description\" : \"Maillot en coton fin à rayures se boutonnant devant pour enfants.\",\n",
            "         \"name\" : \"Incroyable Bois Pizza\",\n",
            "         \"price\" : \"C$71.49\"\n",
            "      },\n",
            "      {\n",
            "         \"_id\" : \"f95f845c-9fbb-4c91-b8c7-9f5cef19caf0\",\n",
            "         \"description\" : \"Montre-bracelet, dite “d'Aviateur”, métal inaltérable, diam. 435ym. Mouvement de précision chronographe, cadran avec grande aiguille trotteuse, permettant la lecture 1/25de seconde.\",\n",
            "         \"name\" : \"Magnifique Coton Clavier\",\n",
            "         \"price\" : \"C$15.15\"\n",
            "      },\n",
            "      {\n",
            "         \"_id\" : \"5ca38dbd-2580-48d8-8cf0-5169a190d604\",\n",
            "         \"description\" : \"Rasoir de sûreté “Prima” tout en laiton massif nickelé chromé, manche moleté bien en main. Peigne et contre-peigne galbés tenant tout d'une pièce, fermeture à charnière, blocage instantané de la lame.\",\n",
            "         \"name\" : \"Pratique Bois Souris\",\n",
            "         \"price\" : \"C$147.40\"\n",
            "      },\n",
            "      {\n",
            "         \"_id\" : \"1dd85624-cb99-4971-973d-6a6338dfed9a\",\n",
            "         \"description\" : \"Cadre raccord brasé de 53 ou 58 %. Jantes en acier émaillées. Pneus “Hiron” 700 x 35, garantis 12 mois. Pignon roue libre à emboitement hexagonal. Frein “Hirondelle” sur jante arrière. Garde-boue métal.\",\n",
            "         \"name\" : \"Licencié Béton Ordinateur\",\n",
            "         \"price\" : \"C$191.05\"\n",
            "      },\n",
            "      {\n",
            "         \"_id\" : \"88c06eb6-b297-480e-8f0d-e1ee086c47b5\",\n",
            "         \"description\" : \"Moteur Villiers. Puissance au frein : 7 HP, 3 vitesses, lancement au pied, éclairage électrique, carrosserie 2 places, coffre à outils, outillage complet, capote et pare-brise.\",\n",
            "         \"name\" : \"Pratique Congelé Ordinateur\",\n",
            "         \"price\" : \"C$82.65\"\n",
            "      },\n",
            "      {\n",
            "         \"_id\" : \"bf1b3f80-7083-4f2b-b0fe-6ee9235e6f92\",\n",
            "         \"description\" : \"Tous nos appareils sont blindés pour que leur rayonnement ne trouble pas les récepteurs radiophoniques, et ils fonctionnent sur courant alternatif 50 riodes 110 et 220 volts. Ils sont garantis pendant 1 an; toutefois, suivant la règle, le tube cathodique est garanti pour 6 mois seulement.\",\n",
            "         \"name\" : \"Fantastique Coton Table\",\n",
            "         \"price\" : \"C$31.25\"\n",
            "      },\n",
            "      {\n",
            "         \"_id\" : \"c37d3554-805b-40b1-a8fe-2de353a41d60\",\n",
            "         \"description\" : \"Tous nos appareils sont blindés pour que leur rayonnement ne trouble pas les récepteurs radiophoniques, et ils fonctionnent sur courant alternatif 50 riodes 110 et 220 volts. Ils sont garantis pendant 1 an; toutefois, suivant la règle, le tube cathodique est garanti pour 6 mois seulement.\",\n",
            "         \"name\" : \"Rustique Bois Voiture\",\n",
            "         \"price\" : \"C$136.35\"\n",
            "      },\n",
            "      {\n",
            "         \"_id\" : \"dff9f7b5-7df3-44b5-89df-f6369b17f00a\",\n",
            "         \"description\" : \"Ce magnifique radio-phono comprend un excellent récepteur radioL'ensemble, dans une belle ébénisterie teintée palissandre, forme un très phonique 6 lampes et un tourne-disque de vitesses placé sous le couvercle. Beau meuble. Ce modèle, dont le montage particulièrement soigne assure un très bon rendement aussi bien en radio qu'en phono, est garanti mn an.\",\n",
            "         \"name\" : \"Intelligent Caoutchouc Serviettes\",\n",
            "         \"price\" : \"C$23.19\"\n",
            "      },\n",
            "      {\n",
            "         \"_id\" : \"84f7e7cf-0327-4fc6-9136-28f09ca541b6\",\n",
            "         \"description\" : \"Montre-bracelet, dite “d'Aviateur”, métal inaltérable, diam. 435ym. Mouvement de précision chronographe, cadran avec grande aiguille trotteuse, permettant la lecture 1/25de seconde.\",\n",
            "         \"name\" : \"Raffiné Congelé Thon\",\n",
            "         \"price\" : \"C$49.95\"\n",
            "      },\n",
            "      {\n",
            "         \"_id\" : \"7737c1df-ae11-4507-8aa3-1820a89bdd2c\",\n",
            "         \"description\" : \"Montre-bracelet, dite “d'Aviateur”, métal inaltérable, diam. 435ym. Mouvement de précision chronographe, cadran avec grande aiguille trotteuse, permettant la lecture 1/25de seconde.\",\n",
            "         \"name\" : \"Élégant Acier Chaussures\",\n",
            "         \"price\" : \"C$178.45\"\n",
            "      },\n",
            "      {\n",
            "         \"_id\" : \"e3bede48-73dc-4d5d-a665-372258003867\",\n",
            "         \"description\" : \"Maillot en coton fin à rayures se boutonnant devant pour enfants.\",\n",
            "         \"name\" : \"Ergonomique Acier Pizza\",\n",
            "         \"price\" : \"C$53.85\"\n",
            "      },\n",
            "      {\n",
            "         \"_id\" : \"00c1affd-86d8-41fd-8f69-32242ee194ad\",\n",
            "         \"description\" : \"Récepteurs de télévision à haute définition 819 lignes, donnant une image très nette et d'un contraste agréable ne fatiguant pas la vue, le montage de la partie radio donne un son absolument remarquable.\",\n",
            "         \"name\" : \"Élégant Acier Ordinateur\",\n",
            "         \"price\" : \"C$174.76\"\n",
            "      },\n",
            "      {\n",
            "         \"_id\" : \"31a6b62d-a5b1-41ab-a041-6a36c64e6398\",\n",
            "         \"description\" : \"Rasoir de sûreté “Prima” tout en laiton massif nickelé chromé, manche moleté bien en main. Peigne et contre-peigne galbés tenant tout d'une pièce, fermeture à charnière, blocage instantané de la lame.\",\n",
            "         \"name\" : \"Magnifique Coton Chemise\",\n",
            "         \"price\" : \"C$55.25\"\n",
            "      },\n",
            "      {\n",
            "         \"_id\" : \"3679e973-02e9-4b80-911b-ed2fc2c89ac9\",\n",
            "         \"description\" : \"Moteur Villiers. Puissance au frein : 7 HP, 3 vitesses, lancement au pied, éclairage électrique, carrosserie 2 places, coffre à outils, outillage complet, capote et pare-brise.\",\n",
            "         \"name\" : \"Recyclé Congelé Souris\",\n",
            "         \"price\" : \"C$50.69\"\n",
            "      },\n",
            "      {\n",
            "         \"_id\" : \"f74530dc-6f89-4e5c-8664-43cd28e72ce7\",\n",
            "         \"description\" : \"Maillot en coton fin à rayures se boutonnant devant pour enfants.\",\n",
            "         \"name\" : \"Licencié Bois Pizza\",\n",
            "         \"price\" : \"C$157.15\"\n",
            "      },\n",
            "      {\n",
            "         \"_id\" : \"672421c4-bbb2-46be-be4b-97f19b13833d\",\n",
            "         \"description\" : \"Cadre raccord brasé de 53 ou 58 %. Jantes en acier émaillées. Pneus “Hiron” 700 x 35, garantis 12 mois. Pignon roue libre à emboitement hexagonal. Frein “Hirondelle” sur jante arrière. Garde-boue métal.\",\n",
            "         \"name\" : \"Savoureux Bronze Chemise\",\n",
            "         \"price\" : \"C$32.40\"\n",
            "      },\n",
            "      {\n",
            "         \"_id\" : \"71ac74da-8991-402f-8f8a-c3b9dc22be63\",\n",
            "         \"description\" : \"Lunettes étanches, monture caoutchouc moulé de 1re qual. glaces rondes de 55 mm de diam. en verre clair. Les lunettes protègent les yeux contre les poussières, fumées et gaz industriels et se portent av. nos masques 5862-5864. Pds 60 gr.\",\n",
            "         \"name\" : \"Électronique Bronze Pizza\",\n",
            "         \"price\" : \"C$74.79\"\n",
            "      },\n",
            "      {\n",
            "         \"_id\" : \"0331b7c0-a45d-4800-8c6e-0bbc373d4c55\",\n",
            "         \"description\" : \"Lunettes étanches, monture caoutchouc moulé de 1re qual. glaces rondes de 55 mm de diam. en verre clair. Les lunettes protègent les yeux contre les poussières, fumées et gaz industriels et se portent av. nos masques 5862-5864. Pds 60 gr.\",\n",
            "         \"name\" : \"Licencié Bois Table\",\n",
            "         \"price\" : \"C$198.48\"\n",
            "      },\n",
            "      {\n",
            "         \"_id\" : \"a6484c54-2c63-4729-bc3f-fa3e1164e73a\",\n",
            "         \"description\" : \"Bicyclette à 1 vitesse, pneus 1/2 ballon. Cadre de 52cm. Jantes chromées. Roue Hore.  Moyeux indéréglables. 2 freins sur jantes. Guidon trials. Garde-boue et couvre chaine en acier émaillé. Porte-bagages. Gardejupes. Pédales à blocs caoutchouc. Émail couleur. Selle route cuir. Sacoche avec outillage. Pompe de cadre. Timbre avertisseur.\",\n",
            "         \"name\" : \"Pratique Congelé Boule\",\n",
            "         \"price\" : \"C$26.71\"\n",
            "      },\n",
            "      {\n",
            "         \"_id\" : \"821fb241-daed-4a3d-91d4-b416fd673662\",\n",
            "         \"description\" : \"Rasoir de sûreté “Prima” tout en laiton massif nickelé chromé, manche moleté bien en main. Peigne et contre-peigne galbés tenant tout d'une pièce, fermeture à charnière, blocage instantané de la lame.\",\n",
            "         \"name\" : \"Recyclé Béton Souris\",\n",
            "         \"price\" : \"C$163.50\"\n",
            "      },\n",
            "      {\n",
            "         \"_id\" : \"69946f85-30d9-4d58-92b5-1840ff71a78e\",\n",
            "         \"description\" : \"Moteur Villiers. Puissance au frein : 7 HP, 3 vitesses, lancement au pied, éclairage électrique, carrosserie 2 places, coffre à outils, outillage complet, capote et pare-brise.\",\n",
            "         \"name\" : \"Ergonomique Coton Salade\",\n",
            "         \"price\" : \"C$33.60\"\n",
            "      },\n",
            "      {\n",
            "         \"_id\" : \"852b016e-acee-4d10-95d7-db57a79fed0e\",\n",
            "         \"description\" : \"Lunettes étanches, monture caoutchouc moulé de 1re qual. glaces rondes de 55 mm de diam. en verre clair. Les lunettes protègent les yeux contre les poussières, fumées et gaz industriels et se portent av. nos masques 5862-5864. Pds 60 gr.\",\n",
            "         \"name\" : \"Incroyable Frais Fromage\",\n",
            "         \"price\" : \"C$87.75\"\n",
            "      },\n",
            "      {\n",
            "         \"_id\" : \"c3ce7102-7ee0-40ac-b088-147a37af8031\",\n",
            "         \"description\" : \"Lanterne cuivre fort, finement nickelé, chute d'eau réglable, suspension antivibratrice, projecteur diamètre cm2, avec verre bombé. Durée d'éclairage 3 heures. Poids 395 grammes.\",\n",
            "         \"name\" : \"Fait main Congelé Salade\",\n",
            "         \"price\" : \"C$167.69\"\n",
            "      },\n",
            "      {\n",
            "         \"_id\" : \"00d0d0dd-e817-411c-9535-8429d849aaaa\",\n",
            "         \"description\" : \"Lunettes étanches, monture caoutchouc moulé de 1re qual. glaces rondes de 55 mm de diam. en verre clair. Les lunettes protègent les yeux contre les poussières, fumées et gaz industriels et se portent av. nos masques 5862-5864. Pds 60 gr.\",\n",
            "         \"name\" : \"Savoureux Caoutchouc Poulet\",\n",
            "         \"price\" : \"C$156.69\"\n",
            "      },\n",
            "      {\n",
            "         \"_id\" : \"20e85ab2-49da-44f9-ac78-6733e35b5a95\",\n",
            "         \"description\" : \"Maillot en coton fin à rayures se boutonnant devant pour enfants.\",\n",
            "         \"name\" : \"Sur mesure Bronze Chaussures\",\n",
            "         \"price\" : \"C$126.55\"\n",
            "      },\n",
            "      {\n",
            "         \"_id\" : \"063ab45d-7de0-413b-a094-f8160165a6d3\",\n",
            "         \"description\" : \"Petite griffe à sarcler. 5 dents en acier, largeur 8 cm. poignée estampée, longueur 26 cm. poids 150 gr. Pour ameublir le sol, arracher les herbes entre les plantes ou fleurs cultivées en lignes rapprochées.\",\n",
            "         \"name\" : \"Raffiné Plastique Fromage\",\n",
            "         \"price\" : \"C$32.29\"\n",
            "      },\n",
            "      {\n",
            "         \"_id\" : \"3bdda8a3-b0ba-45fd-897c-a2f9b5e833aa\",\n",
            "         \"description\" : \"Rasoir de sûreté “Prima” tout en laiton massif nickelé chromé, manche moleté bien en main. Peigne et contre-peigne galbés tenant tout d'une pièce, fermeture à charnière, blocage instantané de la lame.\",\n",
            "         \"name\" : \"Luxueux Métal Pizza\",\n",
            "         \"price\" : \"C$151.49\"\n",
            "      },\n",
            "      {\n",
            "         \"_id\" : \"3559aad9-8b6e-4be5-890d-ec9f1157a593\",\n",
            "         \"description\" : \"Carrosserie en tôle d'acier laqué blanc montée sur roues pour faciliter le déplacement, couvercle laqué blanc, dessus et cuve en métal émaille marron, inaltérable a l'eau de lessive et a la chaleur,\",\n",
            "         \"name\" : \"Oriental Plastique Chemise\",\n",
            "         \"price\" : \"C$45.59\"\n",
            "      }\n",
            "   ],\n",
            "   \"message\" : \"OK\"\n",
            "}\n"
          ]
        }
      ]
    },
    {
      "cell_type": "markdown",
      "source": [
        "# JSON Server pour la conception d'une API REST factice\n",
        "---------\n",
        "\n",
        "[JSON Server](https://github.com/typicode/json-server) est un outil pour créer des API factices (*Mock API*) qui utilisent des fichiers JSON comme source de données. C'est une solution simple et légère qui permet de créer rapidement une API simulée à partir de données stockées dans des fichiers JSON, sans nécessiter de configuration de serveur complexe ni de gestion de base de données.\n",
        "\n",
        "Pour utiliser JSON Server, il vous suffit d'installer l'outil via npm et de créer un fichier JSON qui contiendra les données de référence."
      ],
      "metadata": {
        "id": "BN1R-Sx3UY44"
      }
    },
    {
      "cell_type": "code",
      "source": [
        "\"\"\"\n",
        "Pour modifier le répertoire de travail de Colab.\n",
        "\"\"\"\n",
        "%cd /content/json-mock-api/"
      ],
      "metadata": {
        "id": "7DidqVudy68g",
        "colab": {
          "base_uri": "https://localhost:8080/"
        },
        "outputId": "76137588-8b14-419a-8bd6-5ddc103ca29b"
      },
      "execution_count": null,
      "outputs": [
        {
          "output_type": "stream",
          "name": "stdout",
          "text": [
            "/content/json-mock-api\n"
          ]
        }
      ]
    },
    {
      "cell_type": "markdown",
      "source": [
        "Nous allons simplemente créer le fichier `package.json` manuellement et installer les dépendances :"
      ],
      "metadata": {
        "id": "WcoyqeQMzGtO"
      }
    },
    {
      "cell_type": "code",
      "source": [
        "%%writefile package.json\n",
        "{\n",
        "  \"name\": \"json-mock-api\",\n",
        "  \"version\": \"1.0.0\",\n",
        "  \"description\": \"Example d'API de simulation avec JSONServer\",\n",
        "  \"author\": \"Marcos Dias de Assuncao\",\n",
        "  \"license\": \"MIT\",\n",
        "  \"type\": \"module\",\n",
        "  \"dependencies\": {\n",
        "    \"@faker-js/faker\": \"^9.6.0\",\n",
        "    \"json-server\": \"^0.17.4\",\n",
        "    \"lodash\": \"^4.17.21\"\n",
        "  }\n",
        "}"
      ],
      "metadata": {
        "id": "eA-MhZcTzQ6a",
        "colab": {
          "base_uri": "https://localhost:8080/"
        },
        "outputId": "bf233fa4-1aed-441b-bde9-414fb13a6b20"
      },
      "execution_count": null,
      "outputs": [
        {
          "output_type": "stream",
          "name": "stdout",
          "text": [
            "Writing package.json\n"
          ]
        }
      ]
    },
    {
      "cell_type": "code",
      "source": [
        "!npm install"
      ],
      "metadata": {
        "id": "rDtiNItozX1t",
        "colab": {
          "base_uri": "https://localhost:8080/"
        },
        "outputId": "6538c83e-7fa4-484b-9180-70d3c4d5828b"
      },
      "execution_count": null,
      "outputs": [
        {
          "output_type": "stream",
          "name": "stdout",
          "text": [
            "\u001b[1G\u001b[0K⠙\u001b[1G\u001b[0K⠹\u001b[1G\u001b[0K⠸\u001b[1G\u001b[0K⠼\u001b[1G\u001b[0K⠴\u001b[1G\u001b[0K⠦\u001b[1G\u001b[0K⠧\u001b[1G\u001b[0K⠇\u001b[1G\u001b[0K⠏\u001b[1G\u001b[0K⠋\u001b[1G\u001b[0K⠙\u001b[1G\u001b[0K⠹\u001b[1G\u001b[0K⠸\u001b[1G\u001b[0K⠼\u001b[1G\u001b[0K⠴\u001b[1G\u001b[0K⠦\u001b[1G\u001b[0K⠧\u001b[1G\u001b[0K⠇\u001b[1G\u001b[0K⠏\u001b[1G\u001b[0K⠋\u001b[1G\u001b[0K⠙\u001b[1G\u001b[0K⠹\u001b[1G\u001b[0K⠸\u001b[1G\u001b[0K⠼\u001b[1G\u001b[0K⠴\u001b[1G\u001b[0K⠦\u001b[1G\u001b[0K⠧\u001b[1G\u001b[0K⠇\u001b[1G\u001b[0K⠏\u001b[1G\u001b[0K⠋\u001b[1G\u001b[0K⠙\u001b[1G\u001b[0K⠹\u001b[1G\u001b[0K⠸\u001b[1G\u001b[0K⠼\u001b[1G\u001b[0K⠴\u001b[1G\u001b[0K⠦\u001b[1G\u001b[0K⠧\u001b[1G\u001b[0K⠇\u001b[1G\u001b[0K⠏\u001b[1G\u001b[0K⠋\u001b[1G\u001b[0K⠙\u001b[1G\u001b[0K⠹\u001b[1G\u001b[0K⠸\u001b[1G\u001b[0K⠼\u001b[1G\u001b[0K⠴\u001b[1G\u001b[0K⠦\u001b[1G\u001b[0K⠧\u001b[1G\u001b[0K⠇\u001b[1G\u001b[0K⠏\u001b[1G\u001b[0K⠋\u001b[1G\u001b[0K⠙\u001b[1G\u001b[0K⠹\u001b[1G\u001b[0K⠸\u001b[1G\u001b[0K⠼\u001b[1G\u001b[0K⠴\u001b[1G\u001b[0K⠦\u001b[1G\u001b[0K⠧\u001b[1G\u001b[0K⠇\u001b[1G\u001b[0K⠏\u001b[1G\u001b[0K⠋\u001b[1G\u001b[0K⠙\u001b[1G\u001b[0K⠹\u001b[1G\u001b[0K⠸\u001b[1G\u001b[0K⠼\u001b[1G\u001b[0K⠴\u001b[1G\u001b[0K⠦\u001b[1G\u001b[0K⠧\u001b[1G\u001b[0K⠇\u001b[1G\u001b[0K⠏\u001b[1G\u001b[0K⠋\u001b[1G\u001b[0K⠙\u001b[1G\u001b[0K⠹\u001b[1G\u001b[0K⠸\u001b[1G\u001b[0K⠼\u001b[1G\u001b[0K⠴\u001b[1G\u001b[0K⠦\u001b[1G\u001b[0K⠧\u001b[1G\u001b[0K⠇\u001b[1G\u001b[0K⠏\u001b[1G\u001b[0K⠋\u001b[1G\u001b[0K⠙\u001b[1G\u001b[0K⠹\u001b[1G\u001b[0K\n",
            "added 122 packages, and audited 123 packages in 8s\n",
            "\u001b[1G\u001b[0K⠹\u001b[1G\u001b[0K\n",
            "\u001b[1G\u001b[0K⠹\u001b[1G\u001b[0K19 packages are looking for funding\n",
            "\u001b[1G\u001b[0K⠹\u001b[1G\u001b[0K  run `npm fund` for details\n",
            "\u001b[1G\u001b[0K⠹\u001b[1G\u001b[0K\n",
            "found \u001b[32m\u001b[1m0\u001b[22m\u001b[39m vulnerabilities\n",
            "\u001b[1G\u001b[0K⠹\u001b[1G\u001b[0K"
          ]
        }
      ]
    },
    {
      "cell_type": "markdown",
      "source": [
        "## Création du fichier source des données\n",
        "\n",
        "JSON server utilise un fichier JSON qui sert comme base de données. Le code de la cellule ci-dessous créera un fichier JSON qui contiendra essentiellement les informations sur les utilisateurs et des produits que nous avons vues dans la version Express de notre API."
      ],
      "metadata": {
        "id": "U6hj10rm0fKy"
      }
    },
    {
      "cell_type": "code",
      "source": [
        "%%javascript --target=node --filename=create_db.js\n",
        "\n",
        "import {fakerFR_CA as faker} from '@faker-js/faker';\n",
        "import _ from 'lodash';\n",
        "import fs from \"node:fs\";\n",
        "\n",
        "faker.seed(525);\n",
        "faker.setDefaultRefDate('2025-03-01T00:00:00.000Z');\n",
        "const numberUsers = 15;\n",
        "const numberProducts = 50;\n",
        "const databaseFile = 'db.json';\n",
        "\n",
        "const createUser = () => {\n",
        "    const gender = faker.person.sexType();\n",
        "    return {\n",
        "        id: faker.string.uuid(),\n",
        "        firstName: faker.person.firstName(gender),\n",
        "        lastName: faker.person.lastName(gender),\n",
        "        address: faker.location.street(),\n",
        "        city: faker.location.city(),\n",
        "        province: faker.location.state({abbreviated: true}),\n",
        "        birthday: faker.date.birthdate().toISOString().split('T').shift(),\n",
        "        phone: faker.phone.number()\n",
        "    }\n",
        "}\n",
        "\n",
        "const createProduct = () => {\n",
        "    return {\n",
        "        id: faker.string.uuid(),\n",
        "        name: faker.commerce.productName(),\n",
        "        description: faker.commerce.productDescription(),\n",
        "        price: faker.commerce.price({min: 10, max: 200, dec: 2, symbol: 'C$'})\n",
        "    }\n",
        "}\n",
        "\n",
        "try {\n",
        "    console.log(`En train de créer le fichier ${databaseFile}`);\n",
        "    const users = _.times(numberUsers, createUser);\n",
        "    const products = _.times(numberProducts, createProduct);\n",
        "    fs.writeFileSync(databaseFile, JSON.stringify({ users, products }, null, 2));\n",
        "    console.log(`Fichier ${databaseFile} crée.`);\n",
        "} catch(err) {\n",
        "    console.error(`Erreur dans la création de la BD: ${err.message}`);\n",
        "}"
      ],
      "metadata": {
        "id": "sVYU3Gw_FfyL",
        "colab": {
          "base_uri": "https://localhost:8080/"
        },
        "outputId": "88a813ee-bd9d-4b5a-febd-c2ee9e5e23ba"
      },
      "execution_count": null,
      "outputs": [
        {
          "output_type": "stream",
          "name": "stdout",
          "text": [
            "En train de créer le fichier db.json\n",
            "Fichier db.json crée.\n"
          ]
        }
      ]
    },
    {
      "cell_type": "code",
      "source": [
        "!head -n 30 db.json"
      ],
      "metadata": {
        "id": "xvvLItQoX6qg",
        "colab": {
          "base_uri": "https://localhost:8080/"
        },
        "outputId": "b3d24041-f930-43bc-f758-b885150286e2"
      },
      "execution_count": null,
      "outputs": [
        {
          "output_type": "stream",
          "name": "stdout",
          "text": [
            "{\n",
            "  \"users\": [\n",
            "    {\n",
            "      \"id\": \"6c5fbd39-b7d8-4cc3-93c9-9934888ae7dd\",\n",
            "      \"firstName\": \"Sylvestre\",\n",
            "      \"lastName\": \"Guerin\",\n",
            "      \"address\": \"Bénédicte Pierre Charron\",\n",
            "      \"city\": \"South Joachimshire\",\n",
            "      \"province\": \"NU\",\n",
            "      \"birthday\": \"1971-10-07\",\n",
            "      \"phone\": \"628 766-4092, poste 363\"\n",
            "    },\n",
            "    {\n",
            "      \"id\": \"8dbec0ec-1f5d-417f-88e8-5ec8c0e8a6c2\",\n",
            "      \"firstName\": \"Valère\",\n",
            "      \"lastName\": \"Marie\",\n",
            "      \"address\": \"Sanchez Delesseux\",\n",
            "      \"city\": \"Lake Corentinehaven\",\n",
            "      \"province\": \"YK\",\n",
            "      \"birthday\": \"1986-12-06\",\n",
            "      \"phone\": \"136 183-4032\"\n",
            "    },\n",
            "    {\n",
            "      \"id\": \"a1be916f-a8e8-482b-87e6-61cee2bb3440\",\n",
            "      \"firstName\": \"Josse\",\n",
            "      \"lastName\": \"Bourgeois\",\n",
            "      \"address\": \"Raymonde de la Bûcherie\",\n",
            "      \"city\": \"Fort Louptown\",\n",
            "      \"province\": \"NB\",\n",
            "      \"birthday\": \"1987-07-23\",\n"
          ]
        }
      ]
    },
    {
      "cell_type": "markdown",
      "source": [
        "Maintenant nous pouvons démarrer JSONServer qui créera l'API REST selon les ressources spécifiées dans le fichier `db.json`:"
      ],
      "metadata": {
        "id": "H56MwCvcGXv2"
      }
    },
    {
      "cell_type": "code",
      "source": [
        "%%javascript --target=node --filename=index.js --port=3000\n",
        "\n",
        "import jsonServer from 'json-server';\n",
        "\n",
        "const port = process.env.NODE_PORT || 3000;\n",
        "const server = jsonServer.create();\n",
        "const router = jsonServer.router(\"./db.json\");\n",
        "const middlewares = jsonServer.defaults();\n",
        "\n",
        "server.use(middlewares);\n",
        "server.use(router);\n",
        "\n",
        "server.listen(port, () => {\n",
        "    console.log('JSON Server écoute le port ' + port);\n",
        "});"
      ],
      "metadata": {
        "id": "yZaR9vGbG5Q8",
        "colab": {
          "base_uri": "https://localhost:8080/"
        },
        "outputId": "15ecbc8a-f682-4f0b-cf7a-7b6126c3931d"
      },
      "execution_count": null,
      "outputs": [
        {
          "output_type": "stream",
          "name": "stdout",
          "text": [
            "JSON Server écoute le port 3000\n"
          ]
        }
      ]
    },
    {
      "cell_type": "markdown",
      "source": [
        "## Tester l'API REST\n",
        "\n",
        "Nous pouvons utiliser `curl` pour tester l'API, de la même façon que nous l'avons utilisé pour la version Express de l'API."
      ],
      "metadata": {
        "id": "f4S3tHSrJVmN"
      }
    },
    {
      "cell_type": "code",
      "source": [
        "!curl -s http://localhost:3000/users?_limit=3"
      ],
      "metadata": {
        "id": "A6O0njptKP1j",
        "colab": {
          "base_uri": "https://localhost:8080/"
        },
        "outputId": "fc7fbd27-41d2-4a1d-bf61-59595e9e46d8"
      },
      "execution_count": null,
      "outputs": [
        {
          "output_type": "stream",
          "name": "stdout",
          "text": [
            "\u001b[0mGET /users?_limit=3 \u001b[32m200\u001b[0m 8.244 ms - 818\u001b[0m\n",
            "[\n",
            "  {\n",
            "    \"id\": \"6c5fbd39-b7d8-4cc3-93c9-9934888ae7dd\",\n",
            "    \"firstName\": \"Sylvestre\",\n",
            "    \"lastName\": \"Guerin\",\n",
            "    \"address\": \"Bénédicte Pierre Charron\",\n",
            "    \"city\": \"South Joachimshire\",\n",
            "    \"province\": \"NU\",\n",
            "    \"birthday\": \"1971-10-07\",\n",
            "    \"phone\": \"628 766-4092, poste 363\"\n",
            "  },\n",
            "  {\n",
            "    \"id\": \"8dbec0ec-1f5d-417f-88e8-5ec8c0e8a6c2\",\n",
            "    \"firstName\": \"Valère\",\n",
            "    \"lastName\": \"Marie\",\n",
            "    \"address\": \"Sanchez Delesseux\",\n",
            "    \"city\": \"Lake Corentinehaven\",\n",
            "    \"province\": \"YK\",\n",
            "    \"birthday\": \"1986-12-06\",\n",
            "    \"phone\": \"136 183-4032\"\n",
            "  },\n",
            "  {\n",
            "    \"id\": \"a1be916f-a8e8-482b-87e6-61cee2bb3440\",\n",
            "    \"firstName\": \"Josse\",\n",
            "    \"lastName\": \"Bourgeois\",\n",
            "    \"address\": \"Raymonde de la Bûcherie\",\n",
            "    \"city\": \"Fort Louptown\",\n",
            "    \"province\": \"NB\",\n",
            "    \"birthday\": \"1987-07-23\",\n",
            "    \"phone\": \"1 872 046-2947\"\n",
            "  }\n",
            "]"
          ]
        }
      ]
    },
    {
      "cell_type": "markdown",
      "source": [
        "Pour obtenir les informations de l'utilisateur dont l'identifiant est `f6cc455f-7b8d-4034-b91b-473d280c7c83` :"
      ],
      "metadata": {
        "id": "lvNpePzYhlWD"
      }
    },
    {
      "cell_type": "code",
      "source": [
        "!curl -s http://localhost:3000/users/6c5fbd39-b7d8-4cc3-93c9-9934888ae7dd"
      ],
      "metadata": {
        "id": "ORGO3oSThM4R",
        "colab": {
          "base_uri": "https://localhost:8080/"
        },
        "outputId": "ccfbf63f-70bd-4476-80f8-1a1fae476aaf"
      },
      "execution_count": null,
      "outputs": [
        {
          "output_type": "stream",
          "name": "stdout",
          "text": [
            "\u001b[0mGET /users/6c5fbd39-b7d8-4cc3-93c9-9934888ae7dd \u001b[32m200\u001b[0m 4.604 ms - 263\u001b[0m\n",
            "{\n",
            "  \"id\": \"6c5fbd39-b7d8-4cc3-93c9-9934888ae7dd\",\n",
            "  \"firstName\": \"Sylvestre\",\n",
            "  \"lastName\": \"Guerin\",\n",
            "  \"address\": \"Bénédicte Pierre Charron\",\n",
            "  \"city\": \"South Joachimshire\",\n",
            "  \"province\": \"NU\",\n",
            "  \"birthday\": \"1971-10-07\",\n",
            "  \"phone\": \"628 766-4092, poste 363\"\n",
            "}"
          ]
        }
      ]
    },
    {
      "cell_type": "markdown",
      "source": [
        "Pour obtenir les trois premiers produits:"
      ],
      "metadata": {
        "id": "U-d44YIDKYCs"
      }
    },
    {
      "cell_type": "code",
      "source": [
        "!curl -s http://localhost:3000/products?_limit=3"
      ],
      "metadata": {
        "id": "q3vjydlZKmDN",
        "colab": {
          "base_uri": "https://localhost:8080/"
        },
        "outputId": "5aeaed28-1d9f-470f-e293-36f1fc840938"
      },
      "execution_count": null,
      "outputs": [
        {
          "output_type": "stream",
          "name": "stdout",
          "text": [
            "\u001b[0mGET /products?_limit=3 \u001b[32m200\u001b[0m 3.648 ms - 1121\u001b[0m\n",
            "[\n",
            "  {\n",
            "    \"id\": \"54bc123f-7ecd-4599-af14-142558ae3418\",\n",
            "    \"name\": \"Intelligent Coton Boule\",\n",
            "    \"description\": \"Tous nos appareils sont blindés pour que leur rayonnement ne trouble pas les récepteurs radiophoniques, et ils fonctionnent sur courant alternatif 50 riodes 110 et 220 volts. Ils sont garantis pendant 1 an; toutefois, suivant la règle, le tube cathodique est garanti pour 6 mois seulement.\",\n",
            "    \"price\": \"C$120.83\"\n",
            "  },\n",
            "  {\n",
            "    \"id\": \"845c9fbb-c918-4c79-af5c-ef19caf0e783\",\n",
            "    \"name\": \"Artisanal Frais Pizza\",\n",
            "    \"description\": \"Ces médailles et épingles sont en argent avec patine artistique. Elles ont été composées et frappées spécialement dans les ateliers de l'État pour la Société l'Hirondelle.\",\n",
            "    \"price\": \"C$156.29\"\n",
            "  },\n",
            "  {\n",
            "    \"id\": \"8dbd2580-8d8c-4f05-b169-a190d604191d\",\n",
            "    \"name\": \"Recyclé Frais Table\",\n",
            "    \"description\": \"Cadre raccord brasé de 53 ou 58 %. Jantes en acier émaillées. Pneus “Hiron” 700 x 35, garantis 12 mois. Pignon roue libre à emboitement hexagonal. Frein “Hirondelle” sur jante arrière. Garde-boue métal.\",\n",
            "    \"price\": \"C$173.05\"\n",
            "  }\n",
            "]"
          ]
        }
      ]
    },
    {
      "cell_type": "markdown",
      "source": [
        "Pour envoyer une requête `OPTIONS` pour obtenir et afficher les en-têtes qui contiennent des informations sur quelles opérations sont possibles pour la ressource `/users`:"
      ],
      "metadata": {
        "id": "3oRLTUkNKn2p"
      }
    },
    {
      "cell_type": "code",
      "source": [
        "!curl -s -I -X OPTIONS http://localhost:3000/users"
      ],
      "metadata": {
        "id": "XfoUsb7bLAXC",
        "colab": {
          "base_uri": "https://localhost:8080/"
        },
        "outputId": "2b96ca82-4cf6-4fe1-a032-354a9f2540b3"
      },
      "execution_count": null,
      "outputs": [
        {
          "output_type": "stream",
          "name": "stdout",
          "text": [
            "HTTP/1.1 204 No Content\r\n",
            "\u001b[1mX-Powered-By\u001b[0m: Express\r\n",
            "\u001b[1mVary\u001b[0m: Origin, Access-Control-Request-Headers\r\n",
            "\u001b[1mAccess-Control-Allow-Credentials\u001b[0m: true\r\n",
            "\u001b[1mAccess-Control-Allow-Methods\u001b[0m: GET,HEAD,PUT,PATCH,POST,DELETE\r\n",
            "\u001b[1mContent-Length\u001b[0m: 0\r\n",
            "\u001b[1mDate\u001b[0m: Mon, 07 Jul 2025 18:49:42 GMT\r\n",
            "\u001b[1mConnection\u001b[0m: keep-alive\r\n",
            "\u001b[1mKeep-Alive\u001b[0m: timeout=5\r\n",
            "\r\n"
          ]
        }
      ]
    },
    {
      "cell_type": "markdown",
      "source": [
        "Pour ajouter un nouvel utilisateur, il nous faut:\n",
        "\n",
        "- Émettre une requête HTTP type `POST`\n",
        "- Fournir l'en-tête `Content-Type: application/json` pour indiquer que le contenu du corps de la requête contient un objet JSON.\n",
        "- Fournir l'entrée à ajouter dans le format JSON.\n",
        "\n",
        "Le serveur retournera l'entrée ajouté si la requête a été traitée correctement."
      ],
      "metadata": {
        "id": "YDHqa2jYOqdM"
      }
    },
    {
      "cell_type": "code",
      "source": [
        "%%bash\n",
        "\n",
        "curl -s -X POST http://localhost:3000/users \\\n",
        "-H \"Content-Type: application/json\" \\\n",
        "--data '{ \"firstName\": \"Nicolette\",\n",
        "          \"lastName\": \"Pierre\",\n",
        "          \"address\": \"2536 Sherbrooke Ouest\",\n",
        "          \"city\": \"Montreal\",\n",
        "          \"province\": \"QC\",\n",
        "          \"birthday\": \"1987-02-13T15:45:59.924Z\",\n",
        "          \"phone\": \"514-321-1234\" }'"
      ],
      "metadata": {
        "id": "PXB5HsjjRwqC",
        "colab": {
          "base_uri": "https://localhost:8080/"
        },
        "outputId": "b4057948-9287-4efc-ffe1-193332eb814f"
      },
      "execution_count": null,
      "outputs": [
        {
          "output_type": "stream",
          "name": "stdout",
          "text": [
            "\u001b[0mPOST /users \u001b[32m201\u001b[0m 15.140 ms - 222\u001b[0m\n",
            "{\n",
            "  \"firstName\": \"Nicolette\",\n",
            "  \"lastName\": \"Pierre\",\n",
            "  \"address\": \"2536 Sherbrooke Ouest\",\n",
            "  \"city\": \"Montreal\",\n",
            "  \"province\": \"QC\",\n",
            "  \"birthday\": \"1987-02-13T15:45:59.924Z\",\n",
            "  \"phone\": \"514-321-1234\",\n",
            "  \"id\": \"DhRitaW\"\n",
            "}"
          ]
        }
      ]
    },
    {
      "cell_type": "markdown",
      "source": [
        "Une nouvelle entrée a été créée pour l'utilisateur `Nicolette Pierre`.\n",
        "\n",
        "Supposons maintenant que nous voulons changer l'adresse de `Nicolette Pierre` pour `2717 Ste. Catherine Ouest`.\n",
        "Nous devons envoyer une requête type `PUT` ou `PATCH` à `users/id-de-nicolette`.\n",
        "La requête HTTP contiendra l'objet JSON que le serveur utilisera pour mettre à jour l'entrée `users/id-de-nicolette`. La requête ressemble à celle utilisée pour ajouter une entrée, et le serveur retournera l'entrée mise à jour si la requête a été traitée correctement.\n"
      ],
      "metadata": {
        "id": "OxnWTkZgTgHj"
      }
    },
    {
      "cell_type": "code",
      "source": [
        "%%bash\n",
        "curl -s -X PATCH http://localhost:3000/users/DhRitaW \\\n",
        "-H \"Content-Type: application/json\" \\\n",
        "--data '{ \"address\": \"2717 Ste. Catherine Ouest\" }'"
      ],
      "metadata": {
        "id": "m78tkG6oTz2N",
        "colab": {
          "base_uri": "https://localhost:8080/"
        },
        "outputId": "15856363-8c3a-41bc-8574-5140afa9ebd8"
      },
      "execution_count": null,
      "outputs": [
        {
          "output_type": "stream",
          "name": "stdout",
          "text": [
            "\u001b[0mPATCH /users/DhRitaW \u001b[32m200\u001b[0m 5.802 ms - 226\u001b[0m\n",
            "{\n",
            "  \"firstName\": \"Nicolette\",\n",
            "  \"lastName\": \"Pierre\",\n",
            "  \"address\": \"2717 Ste. Catherine Ouest\",\n",
            "  \"city\": \"Montreal\",\n",
            "  \"province\": \"QC\",\n",
            "  \"birthday\": \"1987-02-13T15:45:59.924Z\",\n",
            "  \"phone\": \"514-321-1234\",\n",
            "  \"id\": \"DhRitaW\"\n",
            "}"
          ]
        }
      ]
    },
    {
      "cell_type": "markdown",
      "source": [
        "Pour accéder au serveur sur autre onglet du navigateur (disponible sur Chrome) :"
      ],
      "metadata": {
        "id": "pfBwN7PNuV_l"
      }
    },
    {
      "cell_type": "code",
      "source": [
        "from google.colab import output\n",
        "print(\"Cliquez sur le lien pour accéder le serveur:\")\n",
        "print(output.eval_js(f\"google.colab.kernel.proxyPort({3000})\"))"
      ],
      "metadata": {
        "id": "l9Y9PWJafStJ",
        "colab": {
          "base_uri": "https://localhost:8080/",
          "height": 52
        },
        "outputId": "0b4f1a1f-c59c-48c5-d048-6fdab8ac00f4"
      },
      "execution_count": null,
      "outputs": [
        {
          "output_type": "stream",
          "name": "stdout",
          "text": [
            "Cliquez sur le lien pour accéder le serveur:\n",
            "https://3000-m-s-41dkhqj2iruz-b.europe-west4-1.prod.colab.dev\n"
          ]
        }
      ]
    },
    {
      "cell_type": "markdown",
      "source": [
        "# Exemple d'API REST avec SQLite3 et Express.js\n",
        "----\n",
        "\n",
        "Dans cette section, nous allons explorer un exemple concret d'API REST utilisant Node.js, Express.js et une base de données SQLite3 basée sur le jeu de données Chinook."
      ],
      "metadata": {
        "id": "7ePLF2UeSdQb"
      }
    },
    {
      "cell_type": "code",
      "source": [
        "\"\"\"\n",
        "Pour modifier le répertoire de travail de Colab.\n",
        "\"\"\"\n",
        "%cd /content/chinook/\n",
        "!mkdir config db controllers models routers"
      ],
      "metadata": {
        "id": "eBh8jaMlTevO",
        "colab": {
          "base_uri": "https://localhost:8080/"
        },
        "outputId": "58f62630-6484-454d-c422-7324122e42ae"
      },
      "execution_count": null,
      "outputs": [
        {
          "output_type": "stream",
          "name": "stdout",
          "text": [
            "/content/chinook\n"
          ]
        }
      ]
    },
    {
      "cell_type": "markdown",
      "source": [
        "\n",
        "## Présentation de la base de données Chinook\n",
        "La base de données **Chinook** est un jeu de données SQL couramment utilisé pour l'apprentissage. Elle contient des informations sur des artistes, albums, morceaux de musique, clients et commandes.\n",
        "\n",
        "**Structure principale :**\n",
        "- `artists` : Stocke les informations des artistes (id, name).\n",
        "- `albums` : Liste des albums avec leur artiste associé.\n",
        "- `tracks` : Contient les morceaux de musique associés aux albums.\n",
        "\n",
        "![Base de données Chinook](https://www.sqlitetutorial.net/wp-content/uploads/2015/11/sqlite-sample-database-color.jpg)"
      ],
      "metadata": {
        "id": "Vj9wWq9VSln2"
      }
    },
    {
      "cell_type": "markdown",
      "source": [
        "## Mise en place de l'API Express\n",
        "\n",
        "L'application Express.js inclut plusieurs fichiers pour organiser le code :\n",
        "\n",
        "- **`index.js`** : Point d'entrée du serveur.\n",
        "- **`config/db.js`** : Configuration de la base de données SQLite3.\n",
        "- **`models/artists.js`** : Le modèle pour la ressource `artists`.\n",
        "- **`controllers/artists.js`** : Contient la logique des opérations CRUD.\n",
        "- **`routers/artists.js`** : Définit les routes API pour les artistes.\n",
        "\n"
      ],
      "metadata": {
        "id": "ZkMXM_zvUc8o"
      }
    },
    {
      "cell_type": "code",
      "source": [
        "!npm init -y\n",
        "!npm pkg set type=module\n",
        "!npm install express sqlite3"
      ],
      "metadata": {
        "id": "ldo_IP-uYhVQ",
        "colab": {
          "base_uri": "https://localhost:8080/"
        },
        "outputId": "048c27e4-2bd2-413b-df55-480566d00972"
      },
      "execution_count": null,
      "outputs": [
        {
          "output_type": "stream",
          "name": "stdout",
          "text": [
            "\u001b[1G\u001b[0KWrote to /content/chinook/package.json:\n",
            "\n",
            "{\n",
            "  \"name\": \"chinook\",\n",
            "  \"version\": \"1.0.0\",\n",
            "  \"main\": \"index.js\",\n",
            "  \"scripts\": {\n",
            "    \"test\": \"echo \\\"Error: no test specified\\\" && exit 1\"\n",
            "  },\n",
            "  \"keywords\": [],\n",
            "  \"author\": \"\",\n",
            "  \"license\": \"ISC\",\n",
            "  \"description\": \"\"\n",
            "}\n",
            "\n",
            "\n",
            "\n",
            "\u001b[1G\u001b[0K⠙\u001b[1G\u001b[0K\u001b[1G\u001b[0K\u001b[1G\u001b[0K⠙\u001b[1G\u001b[0K⠹\u001b[1G\u001b[0K⠸\u001b[1G\u001b[0K⠼\u001b[1G\u001b[0K⠴\u001b[1G\u001b[0K⠦\u001b[1G\u001b[0K⠧\u001b[1G\u001b[0K⠇\u001b[1G\u001b[0K⠏\u001b[1G\u001b[0K⠋\u001b[1G\u001b[0K⠙\u001b[1G\u001b[0K⠹\u001b[1G\u001b[0K⠸\u001b[1G\u001b[0K⠼\u001b[1G\u001b[0K⠴\u001b[1G\u001b[0K⠦\u001b[1G\u001b[0K⠧\u001b[1G\u001b[0K⠇\u001b[1G\u001b[0K⠏\u001b[1G\u001b[0K⠋\u001b[1G\u001b[0K⠙\u001b[1G\u001b[0K⠹\u001b[1G\u001b[0K⠸\u001b[1G\u001b[0K⠼\u001b[1G\u001b[0K⠴\u001b[1G\u001b[0K⠦\u001b[1G\u001b[0K⠧\u001b[1G\u001b[0K⠇\u001b[1G\u001b[0K⠏\u001b[1G\u001b[0K⠋\u001b[1G\u001b[0K⠙\u001b[1G\u001b[0K⠹\u001b[1G\u001b[0K⠸\u001b[1G\u001b[0K⠼\u001b[1G\u001b[0K⠴\u001b[1G\u001b[0K⠦\u001b[1G\u001b[0K⠧\u001b[1G\u001b[0K⠇\u001b[1G\u001b[0K⠏\u001b[1G\u001b[0K⠋\u001b[1G\u001b[0K⠙\u001b[1G\u001b[0K⠹\u001b[1G\u001b[0K⠸\u001b[1G\u001b[0K⠼\u001b[1G\u001b[0K⠴\u001b[1G\u001b[0K⠦\u001b[1G\u001b[0K⠧\u001b[1G\u001b[0K⠇\u001b[1G\u001b[0K⠏\u001b[1G\u001b[0K⠋\u001b[1G\u001b[0K⠙\u001b[1G\u001b[0K⠹\u001b[1G\u001b[0K⠸\u001b[1G\u001b[0K⠼\u001b[1G\u001b[0K⠴\u001b[1G\u001b[0K⠦\u001b[1G\u001b[0K⠧\u001b[1G\u001b[0K⠇\u001b[1G\u001b[0K⠏\u001b[1G\u001b[0K⠋\u001b[1G\u001b[0K⠙\u001b[1G\u001b[0K⠹\u001b[1G\u001b[0K⠸\u001b[1G\u001b[0K⠼\u001b[1G\u001b[0K⠴\u001b[1G\u001b[0K⠦\u001b[1G\u001b[0K⠧\u001b[1G\u001b[0K⠇\u001b[1G\u001b[0K⠏\u001b[1G\u001b[0K⠋\u001b[1G\u001b[0K⠙\u001b[1G\u001b[0K⠹\u001b[1G\u001b[0K⠸\u001b[1G\u001b[0K⠼\u001b[1G\u001b[0K⠴\u001b[1G\u001b[0K⠦\u001b[1G\u001b[0K⠧\u001b[1G\u001b[0K⠇\u001b[1G\u001b[0K⠏\u001b[1G\u001b[0K⠋\u001b[1G\u001b[0K⠙\u001b[1G\u001b[0K⠹\u001b[1G\u001b[0K⠸\u001b[1G\u001b[0K⠼\u001b[1G\u001b[0K⠴\u001b[1G\u001b[0K⠦\u001b[1G\u001b[0K⠧\u001b[1G\u001b[0K⠇\u001b[1G\u001b[0K⠏\u001b[1G\u001b[0K⠋\u001b[1G\u001b[0K⠙\u001b[1G\u001b[0K⠹\u001b[1G\u001b[0K⠸\u001b[1G\u001b[0K⠼\u001b[1G\u001b[0K⠴\u001b[1G\u001b[0K⠦\u001b[1G\u001b[0K⠧\u001b[1G\u001b[0K⠇\u001b[1G\u001b[0K⠏\u001b[1G\u001b[0K⠋\u001b[1G\u001b[0K\u001b[1mnpm\u001b[22m \u001b[33mwarn\u001b[39m \u001b[94mdeprecated\u001b[39m @npmcli/move-file@1.1.2: This functionality has been moved to @npmcli/fs\n",
            "\u001b[1G\u001b[0K⠋\u001b[1G\u001b[0K\u001b[1mnpm\u001b[22m \u001b[33mwarn\u001b[39m \u001b[94mdeprecated\u001b[39m rimraf@3.0.2: Rimraf versions prior to v4 are no longer supported\n",
            "\u001b[1G\u001b[0K⠙\u001b[1G\u001b[0K\u001b[1mnpm\u001b[22m \u001b[33mwarn\u001b[39m \u001b[94mdeprecated\u001b[39m npmlog@6.0.2: This package is no longer supported.\n",
            "\u001b[1G\u001b[0K⠙\u001b[1G\u001b[0K\u001b[1mnpm\u001b[22m \u001b[33mwarn\u001b[39m \u001b[94mdeprecated\u001b[39m inflight@1.0.6: This module is not supported, and leaks memory. Do not use it. Check out lru-cache if you want a good and tested way to coalesce async requests by a key value, which is much more comprehensive and powerful.\n",
            "\u001b[1G\u001b[0K⠙\u001b[1G\u001b[0K\u001b[1mnpm\u001b[22m \u001b[33mwarn\u001b[39m \u001b[94mdeprecated\u001b[39m are-we-there-yet@3.0.1: This package is no longer supported.\n",
            "\u001b[1G\u001b[0K⠙\u001b[1G\u001b[0K\u001b[1mnpm\u001b[22m \u001b[33mwarn\u001b[39m \u001b[94mdeprecated\u001b[39m glob@7.2.3: Glob versions prior to v9 are no longer supported\n",
            "\u001b[1G\u001b[0K⠹\u001b[1G\u001b[0K\u001b[1mnpm\u001b[22m \u001b[33mwarn\u001b[39m \u001b[94mdeprecated\u001b[39m gauge@4.0.4: This package is no longer supported.\n",
            "\u001b[1G\u001b[0K⠹\u001b[1G\u001b[0K⠸\u001b[1G\u001b[0K⠼\u001b[1G\u001b[0K⠴\u001b[1G\u001b[0K⠦\u001b[1G\u001b[0K⠧\u001b[1G\u001b[0K⠇\u001b[1G\u001b[0K⠏\u001b[1G\u001b[0K⠋\u001b[1G\u001b[0K⠙\u001b[1G\u001b[0K⠹\u001b[1G\u001b[0K⠸\u001b[1G\u001b[0K⠼\u001b[1G\u001b[0K⠴\u001b[1G\u001b[0K⠦\u001b[1G\u001b[0K\n",
            "added 182 packages, and audited 183 packages in 11s\n",
            "\u001b[1G\u001b[0K⠦\u001b[1G\u001b[0K\n",
            "\u001b[1G\u001b[0K⠦\u001b[1G\u001b[0K25 packages are looking for funding\n",
            "\u001b[1G\u001b[0K⠦\u001b[1G\u001b[0K  run `npm fund` for details\n",
            "\u001b[1G\u001b[0K⠦\u001b[1G\u001b[0K\n",
            "found \u001b[32m\u001b[1m0\u001b[22m\u001b[39m vulnerabilities\n",
            "\u001b[1G\u001b[0K⠦\u001b[1G\u001b[0K"
          ]
        }
      ]
    },
    {
      "cell_type": "markdown",
      "source": [
        "### La base de données\n",
        "\n",
        "Pour télecharger la base de données d'exemple:"
      ],
      "metadata": {
        "id": "K9ra87exYkPp"
      }
    },
    {
      "cell_type": "code",
      "source": [
        "!wget https://www.sqlitetutorial.net/wp-content/uploads/2018/03/chinook.zip\n",
        "!unzip chinook.zip && rm chinook.zip*\n",
        "!mv chinook.db db/"
      ],
      "metadata": {
        "id": "qgNGOND7U5Th",
        "colab": {
          "base_uri": "https://localhost:8080/"
        },
        "outputId": "f3f236e8-f260-4b77-965a-0a93c5d24512"
      },
      "execution_count": null,
      "outputs": [
        {
          "output_type": "stream",
          "name": "stdout",
          "text": [
            "--2025-07-07 18:59:05--  https://www.sqlitetutorial.net/wp-content/uploads/2018/03/chinook.zip\n",
            "Resolving www.sqlitetutorial.net (www.sqlitetutorial.net)... 104.21.30.141, 172.67.172.250, 2606:4700:3037::ac43:acfa, ...\n",
            "Connecting to www.sqlitetutorial.net (www.sqlitetutorial.net)|104.21.30.141|:443... connected.\n",
            "HTTP request sent, awaiting response... 200 OK\n",
            "Length: 305596 (298K) [application/zip]\n",
            "Saving to: ‘chinook.zip’\n",
            "\n",
            "\rchinook.zip           0%[                    ]       0  --.-KB/s               \rchinook.zip         100%[===================>] 298.43K  --.-KB/s    in 0.02s   \n",
            "\n",
            "2025-07-07 18:59:05 (18.2 MB/s) - ‘chinook.zip’ saved [305596/305596]\n",
            "\n",
            "Archive:  chinook.zip\n",
            "  inflating: chinook.db              \n"
          ]
        }
      ]
    },
    {
      "cell_type": "code",
      "source": [
        "!ls -l db/"
      ],
      "metadata": {
        "id": "4gg1PN5Tn2HR",
        "colab": {
          "base_uri": "https://localhost:8080/"
        },
        "outputId": "1379c98f-a25c-45f1-d353-f6a985872c16"
      },
      "execution_count": null,
      "outputs": [
        {
          "output_type": "stream",
          "name": "stdout",
          "text": [
            "total 864\n",
            "-rw-r--r-- 1 root root 884736 Nov 29  2015 chinook.db\n"
          ]
        }
      ]
    },
    {
      "cell_type": "markdown",
      "source": [
        "Le fichier `config/db.js` est responsable de la configuration de la base de données SQLite3 pour l'application Express.js. Il établit une connexion à la base de données Chinook et permet l'exécution de requêtes SQL."
      ],
      "metadata": {
        "id": "GDOA6BfcVu-x"
      }
    },
    {
      "cell_type": "code",
      "source": [
        "%%javascript --target=disk --filename=config/db.js\n",
        "\n",
        "import sqlite3 from 'sqlite3';\n",
        "\n",
        "class SQLite3Driver {\n",
        "    constructor() {\n",
        "        this.db = new sqlite3.Database('db/chinook.db',\n",
        "            sqlite3.OPEN_READWRITE, (err) => {\n",
        "            if (err) {\n",
        "                console.log('Erreur de connexion', err)\n",
        "            }\n",
        "        });\n",
        "    }\n",
        "\n",
        "    async all(sqlStmt, ...values) {\n",
        "        return new Promise((resolve, reject) => {\n",
        "            this.db.all(sqlStmt, values, function (err, rows) {\n",
        "                if (err) {\n",
        "                    reject(err);\n",
        "                } else {\n",
        "                    resolve(rows);\n",
        "                }\n",
        "            })\n",
        "        })\n",
        "    }\n",
        "\n",
        "    async get(sqlStmt, ...values) {\n",
        "        return new Promise((resolve, reject) => {\n",
        "            this.db.get(sqlStmt, values, function (err, row) {\n",
        "                if (err) {\n",
        "                    reject(err);\n",
        "                } else {\n",
        "                    resolve(row);\n",
        "                }\n",
        "            })\n",
        "        })\n",
        "    }\n",
        "\n",
        "    async close() {\n",
        "        return new Promise( (resolve, reject) => {\n",
        "            this.db.close((err) => {\n",
        "                if (err) {\n",
        "                    reject(err.message);\n",
        "                }\n",
        "                resolve('Connexion fermée.');\n",
        "            });\n",
        "        });\n",
        "    }\n",
        "}\n",
        "\n",
        "export default new SQLite3Driver();"
      ],
      "metadata": {
        "id": "-K39b4VKVE15"
      },
      "execution_count": null,
      "outputs": []
    },
    {
      "cell_type": "markdown",
      "source": [
        "## Le modèle\n",
        "\n",
        "Le fichier `models/artists.js` définit la structure et les opérations associées aux artistes dans la base de données Chinook."
      ],
      "metadata": {
        "id": "vVPIaCNYWTc9"
      }
    },
    {
      "cell_type": "code",
      "source": [
        "%%javascript --target=disk --filename=models/artists.js\n",
        "\n",
        "import db from \"../config/db.js\";\n",
        "\n",
        "class Artists {\n",
        "    async all(page= 1, pageSize= 10) {\n",
        "        const offset = (page - 1) * pageSize;\n",
        "        return await db.all(\"SELECT * FROM artists LIMIT ? OFFSET ?\", pageSize, offset);\n",
        "    }\n",
        "\n",
        "    async count () {\n",
        "       const row = await db.get(\"SELECT COUNT(*) AS count FROM artists\");\n",
        "       return row?.count || 0;\n",
        "    }\n",
        "\n",
        "    async artistById(artistId){\n",
        "        return await db.get(\"SELECT * FROM artists WHERE ArtistId = ?\", artistId);\n",
        "    }\n",
        "}\n",
        "\n",
        "export default new Artists();"
      ],
      "metadata": {
        "id": "E0WJyi2GWh7e"
      },
      "execution_count": null,
      "outputs": []
    },
    {
      "cell_type": "markdown",
      "source": [
        "## Les contrôleurs\n",
        "\n",
        "Les fichiers situés dans le dossier `controllers/` contiennent la logique métier de l'API REST et définissent comment traiter les requêtes HTTP en interaction avec la base de données Chinook.\n",
        "\n",
        "\n",
        "\n"
      ],
      "metadata": {
        "id": "STxZAcoxW0ue"
      }
    },
    {
      "cell_type": "code",
      "source": [
        "%%javascript --target=disk --filename=controllers/abstract.js\n",
        "\n",
        "export class Response {\n",
        "    constructor(code, message, results, count, links) {\n",
        "        this.code = code;\n",
        "        this.count = count;\n",
        "        this.message = message;\n",
        "        this.links = links;\n",
        "        this.results = results;\n",
        "    }\n",
        "\n",
        "    static ok(results, count, links) {\n",
        "        return new Response(200, \"OK\", results, count, links);\n",
        "    }\n",
        "\n",
        "    static badRequest(message) {\n",
        "        return new Response(400, message);\n",
        "    }\n",
        "\n",
        "    static notFound(message) {\n",
        "        return new Response(404, message);\n",
        "    }\n",
        "\n",
        "    static serverError(message) {\n",
        "        return new Response(505, message);\n",
        "    }\n",
        "}\n",
        "\n",
        "export class AbstractController {\n",
        "    static DEFAULT_PAGE_SIZE = 10;\n",
        "\n",
        "    createLinks(req, count, page, pageSize) {\n",
        "        const links = { };\n",
        "        const query = { ...req?.query };\n",
        "\n",
        "        if (page > 1) {\n",
        "            query.page = Math.min(page - 1, Math.ceil(count / pageSize));\n",
        "            links.previous = `${req.baseUrl}${req.path}?${new URLSearchParams(query).toString()}`;\n",
        "        }\n",
        "\n",
        "        if ( count >= (page * pageSize)) {\n",
        "            query.page = page + 1;\n",
        "            links.next = `${req.baseUrl}${req.path}?${new URLSearchParams(query).toString()}`;\n",
        "        }\n",
        "        return links;\n",
        "    }\n",
        "\n",
        "    currentPage(req) {\n",
        "        const page = req.query.page;\n",
        "        return page ? parseInt(page) : 1;\n",
        "    }\n",
        "\n",
        "    getPageSize(req) {\n",
        "        const pageSize = req.query.pageSize;\n",
        "        return pageSize ? parseInt(pageSize) : AbstractController.DEFAULT_PAGE_SIZE;\n",
        "    }\n",
        "}"
      ],
      "metadata": {
        "id": "kkWkQmYgXFSL"
      },
      "execution_count": null,
      "outputs": []
    },
    {
      "cell_type": "code",
      "source": [
        "%%javascript --target=disk --filename=controllers/artists.js\n",
        "\n",
        "import model from '../models/artists.js';\n",
        "import { AbstractController, Response } from \"./abstract.js\";\n",
        "\n",
        "class ArtistsController extends AbstractController {\n",
        "\n",
        "    async all(req, res) {\n",
        "        const page = super.currentPage(req);\n",
        "        const pageSize = super.getPageSize(req);\n",
        "        try {\n",
        "            const count = await model.count();\n",
        "            const results = await model.all(page, pageSize);\n",
        "            let links = super.createLinks(req, count, page, pageSize);\n",
        "            res.json(Response.ok(results, count, links));\n",
        "        } catch (error) {\n",
        "            res.status(505);\n",
        "        }\n",
        "    }\n",
        "\n",
        "    async artistById(req, res) {\n",
        "        const artistId = req?.params?.artistId;\n",
        "        if (artistId) {\n",
        "            const result = await model.artistById(parseInt(artistId));\n",
        "            if (result) {\n",
        "                return res.json(Response.ok(result));\n",
        "            }\n",
        "        }\n",
        "        res.json(Response.notFound(\"Artiste introuvable.\"));\n",
        "    }\n",
        "}\n",
        "\n",
        "export default new ArtistsController();"
      ],
      "metadata": {
        "id": "AyXjG_-gXOAg"
      },
      "execution_count": null,
      "outputs": []
    },
    {
      "cell_type": "markdown",
      "source": [
        "### Les routeurs\n",
        "\n",
        "Le fichier `routers/artists.js` définit les routes de l'API REST liées aux artistes et mappe chaque route HTTP à une fonction du contrôleur `controllers/artists.js`"
      ],
      "metadata": {
        "id": "hQdxXcjaXWdb"
      }
    },
    {
      "cell_type": "code",
      "source": [
        "%%javascript --target=disk --filename=routers/artists.js\n",
        "\n",
        "import { Router } from \"express\";\n",
        "import controller from \"../controllers/artists.js\";\n",
        "\n",
        "const router = Router();\n",
        "\n",
        "router.route(\"/\")\n",
        "    .get(controller.all);\n",
        "\n",
        "router.route(\"/:artistId\")\n",
        "    .get(controller.artistById);\n",
        "\n",
        "export default router;"
      ],
      "metadata": {
        "id": "cFvCe7V8Xpu_"
      },
      "execution_count": null,
      "outputs": []
    },
    {
      "cell_type": "markdown",
      "source": [
        "### Le fichier `index.js`\n",
        "\n"
      ],
      "metadata": {
        "id": "zNKNcl8YX9sd"
      }
    },
    {
      "cell_type": "code",
      "source": [
        "%%javascript --target=node --filename=index.js --port=3000\n",
        "\n",
        "import express from 'express';\n",
        "import artistsRouter from './routers/artists.js';\n",
        "\n",
        "const PORT = process.env.NODE_PORT || 3000;\n",
        "\n",
        "const app = express();\n",
        "app.use(express.json());\n",
        "\n",
        "app.use(\"/api/artists\", artistsRouter);\n",
        "\n",
        "app.listen(PORT, () => {\n",
        "    console.log(`Serveur écoutant sur le port ${PORT}`)\n",
        "});"
      ],
      "metadata": {
        "id": "GXmC0LsaYIiq",
        "colab": {
          "base_uri": "https://localhost:8080/"
        },
        "outputId": "b57f8b0e-fcd2-40f4-a3ed-c4d0dd4ca6fb"
      },
      "execution_count": null,
      "outputs": [
        {
          "output_type": "stream",
          "name": "stdout",
          "text": [
            "Serveur écoutant sur le port 3000\n"
          ]
        }
      ]
    },
    {
      "cell_type": "markdown",
      "source": [
        "### Lister les artistes avec `curl`\n"
      ],
      "metadata": {
        "id": "C9UbH1UyY8zI"
      }
    },
    {
      "cell_type": "code",
      "source": [
        "!curl -s -X GET http://localhost:3000/api/artists?page=4 | json_pp"
      ],
      "metadata": {
        "id": "JlCXYHSMZCLl",
        "colab": {
          "base_uri": "https://localhost:8080/"
        },
        "outputId": "271facea-82fe-4895-ed7f-970095d5613a"
      },
      "execution_count": null,
      "outputs": [
        {
          "output_type": "stream",
          "name": "stdout",
          "text": [
            "{\n",
            "   \"code\" : 200,\n",
            "   \"count\" : 275,\n",
            "   \"links\" : {\n",
            "      \"next\" : \"/api/artists/?page=5\",\n",
            "      \"previous\" : \"/api/artists/?page=3\"\n",
            "   },\n",
            "   \"message\" : \"OK\",\n",
            "   \"results\" : [\n",
            "      {\n",
            "         \"ArtistId\" : 31,\n",
            "         \"Name\" : \"Baby Consuelo\"\n",
            "      },\n",
            "      {\n",
            "         \"ArtistId\" : 32,\n",
            "         \"Name\" : \"Ney Matogrosso\"\n",
            "      },\n",
            "      {\n",
            "         \"ArtistId\" : 33,\n",
            "         \"Name\" : \"Luiz Melodia\"\n",
            "      },\n",
            "      {\n",
            "         \"ArtistId\" : 34,\n",
            "         \"Name\" : \"Nando Reis\"\n",
            "      },\n",
            "      {\n",
            "         \"ArtistId\" : 35,\n",
            "         \"Name\" : \"Pedro Luís & A Parede\"\n",
            "      },\n",
            "      {\n",
            "         \"ArtistId\" : 36,\n",
            "         \"Name\" : \"O Rappa\"\n",
            "      },\n",
            "      {\n",
            "         \"ArtistId\" : 37,\n",
            "         \"Name\" : \"Ed Motta\"\n",
            "      },\n",
            "      {\n",
            "         \"ArtistId\" : 38,\n",
            "         \"Name\" : \"Banda Black Rio\"\n",
            "      },\n",
            "      {\n",
            "         \"ArtistId\" : 39,\n",
            "         \"Name\" : \"Fernanda Porto\"\n",
            "      },\n",
            "      {\n",
            "         \"ArtistId\" : 40,\n",
            "         \"Name\" : \"Os Cariocas\"\n",
            "      }\n",
            "   ]\n",
            "}\n"
          ]
        }
      ]
    },
    {
      "cell_type": "markdown",
      "source": [
        "# Activités en classe\n",
        "-----\n"
      ],
      "metadata": {
        "id": "BxKo8g2wXqEe"
      }
    },
    {
      "cell_type": "markdown",
      "source": [
        "## 1. Compléter l'API\n",
        "\n",
        "Dans l'exemple d'API REST que nous avons présenté, vous devez implémenter les routes pour la mise à jour et suppression de produits et d'utilisateurs. Vous aurez à mettre à jour les routeurs, les contrôleurs et les modèles pour permettre cette mise à jour.\n",
        "\n",
        "**Solution disponible avec l'exemple complet sur l'entrepôt git du cours**"
      ],
      "metadata": {
        "id": "hgHmlTZwbGfK"
      }
    },
    {
      "cell_type": "markdown",
      "source": [
        "## 2. Créer des entrées\n",
        "\n",
        "Vous devez émettre une requête à l'aide de `curl` pour créer un nouveau produit. Ensuite, vous devez créer une requête HTTP pour mettre à jour le la description du produit crée.\n",
        "\n",
        "```bash\n",
        "curl -s -X POST http://localhost:3000/products/ -H \"Content-Type: application/json\" --data '{\"name\": \"Cafetière automatique\", \"description\": \"Une cafetière automatique avec moulin intégré pour des cafés fraîchement moulus à chaque tasse.\", \"price\": \"C$129.99\"}'\n",
        "```\n",
        "\n",
        "Creer le fichier:\n",
        "\n",
        "```json\n",
        "{\"description\": \"Dotée d'une fonction programmable et d'une carafe en verre, cette caferière vous offre une expérience caféinée agréable à tout moment de la journée.\"}\n",
        "```\n",
        "\n",
        "```bash\n",
        "curl -s -X PATCH http://localhost:3000/products/id-du-produit-cree -H \"Content-Type: application/json\" --data @patch.json\n",
        "```\n"
      ],
      "metadata": {
        "id": "jjpyXKrmuffG"
      }
    },
    {
      "cell_type": "markdown",
      "source": [
        "## 3. Ajout d'une gestion des albums dans l'API Chinook\n",
        "\n",
        "Compléter l'API REST Chinook en ajoutant la gestion des albums de la base de données Chinook. Vous devez créer une nouvelle route `/albums` permettant de récupérer et d'ajouter des albums.\n",
        "\n",
        "**Solution disponible avec l'exemple complet sur l'entrepôt git du cours**"
      ],
      "metadata": {
        "id": "Djo-S265ZnDS"
      }
    },
    {
      "cell_type": "markdown",
      "source": [
        "# Références\n",
        "------------\n",
        "\n",
        "* [Redhat - Une API REST, qu'est-ce que c'est ?](https://www.redhat.com/fr/topics/api/what-is-a-rest-api)\n",
        "* [REST Architectural Constraints](https://restfulapi.net/rest-architectural-constraints/)\n",
        "* [Understanding And Using REST APIs](https://www.smashingmagazine.com/2018/01/understanding-using-rest-api/)\n",
        "* Thomas Hunter, Distributed Systems with Node.js: Building Enterprise-Ready Backend Services, November, 2020.\n",
        "* [MDN - En-têtes HTTP](https://developer.mozilla.org/fr/docs/Web/HTTP/Headers)\n",
        "* [Command line tool and library for transferring data with URLs](https://curl.se/)"
      ],
      "metadata": {
        "id": "fkZfQm_vdujL"
      }
    }
  ]
}